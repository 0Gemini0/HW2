{
 "cells": [
  {
   "cell_type": "markdown",
   "metadata": {},
   "source": [
    "# Information Retrieval I #\n",
    "## Assignment 2: retrieval models [100 points + 10 bonus points] ##\n",
    "**TA**: Christophe Van Gysel (cvangysel@uva.nl; C3.258B, Science Park 904)\n",
    "\n",
    "**Secondary TAs**: Harrie Oosterhuis, Nikos Voskarides"
   ]
  },
  {
   "cell_type": "markdown",
   "metadata": {},
   "source": [
    "In this assignment you will get familiar with basic information retrieval concepts. You will implement and evaluate different information retrieval ranking models and evaluate their performance.\n",
    "\n",
    "We provide you with a VirtualBox image that comes pre-loaded with an index and a Python installation. To query the index, you'll use a Python package ([pyndri](https://github.com/cvangysel/pyndri)) that allows easy access to the underlying document statistics.\n",
    "\n",
    "For evaluation you'll use the [TREC Eval](https://github.com/usnistgov/trec_eval) utility, provided by the National Institute of Standards and Technology of the United States. TREC Eval is the de facto standard way to compute Information Retrieval measures and is frequently referenced in scientific papers.\n",
    "\n",
    "This is a **groups-of-two assignment**, the deadline is **23:59 - 25 January, 2017**. Code quality, informative comments and convincing analysis of the results will be considered when grading. Submission should be done through blackboard, questions can be asked on the course [Piazza](https://piazza.com/class/ixoz63p156g1ts).\n",
    "\n",
    "### Technicalities (must-read!) ###\n",
    "This assignment comes pre-loaded on a VirtualBox running Ubuntu. We have configured the indexing software and Python environment such that it works out of the box. You are allowed to extract the files from the VirtualBox and set-up your own non-virtualized environment. However, in this case you are on your own w.r.t. software support.\n",
    "\n",
    "The assignment directory is organized as follows:\n",
    "   * `./assignment.ipynb` (this file): the description of the assignment.\n",
    "   * `./index/`: the index we prepared for you.\n",
    "   * `./ap_88_90/`: directory with ground-truth and evaluation sets:\n",
    "      * `qrel_test`: test query relevance collection (**test set**).\n",
    "      * `qrel_validation`: validation query relevance collection (**validation set**).\n",
    "      * `topics_title`: semicolon-separated file with query identifiers and terms.\n",
    "      \n",
    "`Python + Jupyter`, `Indri`, `Gensim` and `Pyndri` come pre-installed (see `$HOME/.local`). TREC Eval can be found in `$HOME/Downloads/trec_eval.9.0`. The password of the `student` account on the VirtualBox is `datascience`."
   ]
  },
  {
   "cell_type": "code",
   "execution_count": 30,
   "metadata": {
    "collapsed": false
   },
   "outputs": [],
   "source": [
    "# All Imports\n",
    "import pyndri\n",
    "import time\n",
    "import pickle\n",
    "from collections import Counter\n",
    "import collections\n",
    "import io\n",
    "import logging\n",
    "import sys\n",
    "import numpy as np\n",
    "import subprocess\n",
    "import math\n",
    "import scipy\n",
    "import scipy.stats"
   ]
  },
  {
   "cell_type": "markdown",
   "metadata": {},
   "source": [
    "### TREC Eval primer ###\n",
    "The TREC Eval utility can be downloaded and compiled as follows:\n",
    "\n",
    "    git clone https://github.com/usnistgov/trec_eval.git\n",
    "    cd trec_eval\n",
    "    make\n",
    "\n",
    "TREC Eval computes evaluation scores given two files: ground-truth information regarding relevant documents, named *query relevance* or *qrel*, and a ranking of documents for a set of queries, referred to as a *run*. The *qrel* will be supplied by us and should not be changed. For every retrieval model (or combinations thereof) you will generate a run of the top-1000 documents for every query. The format of the *run* file is as follows:\n",
    "\n",
    "    $query_identifier Q0 $document_identifier $rank_of_document_for_query $query_document_similarity $run_identifier\n",
    "    \n",
    "where\n",
    "   * `$query_identifier` is the unique identifier corresponding to a query (usually this follows a sequential numbering).\n",
    "   * `Q0` is a legacy field that you can ignore.\n",
    "   * `$document_identifier` corresponds to the unique identifier of a document (e.g., APXXXXXXX where AP denotes the collection and the Xs correspond to a unique numerical identifier).\n",
    "   * `$rank_of_document_for_query` denotes the rank of the document for the particular query. This field is ignored by TREC Eval and is only maintained for legacy support. The ranks are computed by TREC Eval itself using the `$query_document_similarity` field (see next). However, it remains good practice to correctly compute this field.\n",
    "   * `$query_document_similarity` is a score indicating the similarity between query and document where a higher score denotes greater similarity.\n",
    "   * `$run_identifier` is an identifier of the run. This field is for your own convenience and has no purpose beyond bookkeeping.\n",
    "   \n",
    "For example, say we have two queries: `Q1` and `Q2` and we rank three documents (`DOC1`, `DOC2`, `DOC3`). For query `Q1`, we find the following similarity scores `score(Q1, DOC1) = 1.0`, `score(Q1, DOC2) = 0.5`, `score(Q1, DOC3) = 0.75`; and for `Q2`: `score(Q2, DOC1) = -0.1`, `score(Q2, DOC2) = 1.25`, `score(Q1, DOC3) = 0.0`. We can generate run using the following snippet:"
   ]
  },
  {
   "cell_type": "code",
   "execution_count": 2,
   "metadata": {
    "collapsed": false,
    "scrolled": false
   },
   "outputs": [
    {
     "name": "stdout",
     "output_type": "stream",
     "text": [
      "Q2 Q0 DOC2 1 1.25 example\n",
      "Q2 Q0 DOC3 2 0.0 example\n",
      "Q2 Q0 DOC1 3 -0.1 example\n",
      "Q1 Q0 DOC1 1 1.0 example\n",
      "Q1 Q0 DOC3 2 0.75 example\n",
      "Q1 Q0 DOC2 3 0.5 example\n"
     ]
    }
   ],
   "source": [
    "import logging\n",
    "import sys\n",
    "\n",
    "def write_run(model_name, data, out_f,\n",
    "              max_objects_per_query=sys.maxsize,\n",
    "              skip_sorting=False):\n",
    "    \"\"\"\n",
    "    Write a run to an output file.\n",
    "    Parameters:\n",
    "        - model_name: identifier of run.\n",
    "        - data: dictionary mapping topic_id to object_assesments;\n",
    "            object_assesments is an iterable (list or tuple) of\n",
    "            (relevance, object_id) pairs.\n",
    "            The object_assesments iterable is sorted by decreasing order.\n",
    "        - out_f: output file stream.\n",
    "        - max_objects_per_query: cut-off for number of objects per query.\n",
    "    \"\"\"\n",
    "    for subject_id, object_assesments in data.items():\n",
    "        if not object_assesments:\n",
    "            logging.warning('Received empty ranking for %s; ignoring.',\n",
    "                            subject_id)\n",
    "\n",
    "            continue\n",
    "\n",
    "        # Probe types, to make sure everything goes alright.\n",
    "        # assert isinstance(object_assesments[0][0], float) or \\\n",
    "        #     isinstance(object_assesments[0][0], np.float32)\n",
    "        assert isinstance(object_assesments[0][1], str) or \\\n",
    "            isinstance(object_assesments[0][1], bytes)\n",
    "\n",
    "        if not skip_sorting:\n",
    "            object_assesments = sorted(object_assesments, reverse=True)\n",
    "\n",
    "        if max_objects_per_query < sys.maxsize:\n",
    "            object_assesments = object_assesments[:max_objects_per_query]\n",
    "\n",
    "        if isinstance(subject_id, bytes):\n",
    "            subject_id = subject_id.decode('utf8')\n",
    "\n",
    "        for rank, (relevance, object_id) in enumerate(object_assesments):\n",
    "            if isinstance(object_id, bytes):\n",
    "                object_id = object_id.decode('utf8')\n",
    "\n",
    "            out_f.write(\n",
    "                '{subject} Q0 {object} {rank} {relevance} '\n",
    "                '{model_name}\\n'.format(\n",
    "                    subject=subject_id,\n",
    "                    object=object_id,\n",
    "                    rank=rank + 1,\n",
    "                    relevance=relevance,\n",
    "                    model_name=model_name))\n",
    "            \n",
    "# The following writes the run to standard output.\n",
    "# In your code, you should write the runs to local\n",
    "# storage in order to pass them to trec_eval.\n",
    "write_run(\n",
    "    model_name='example',\n",
    "    data={\n",
    "        'Q1': ((1.0, 'DOC1'), (0.5, 'DOC2'), (0.75, 'DOC3')),\n",
    "        'Q2': ((-0.1, 'DOC1'), (1.25, 'DOC2'), (0.0, 'DOC3')),\n",
    "    },\n",
    "    out_f=sys.stdout,\n",
    "    max_objects_per_query=1000)"
   ]
  },
  {
   "cell_type": "markdown",
   "metadata": {},
   "source": [
    "Now, imagine that we know that `DOC1` is relevant and `DOC3` is non-relevant for `Q1`. In addition, for `Q2` we only know of the relevance of `DOC3`. The query relevance file looks like:\n",
    "\n",
    "    Q1 0 DOC1 1\n",
    "    Q1 0 DOC3 0\n",
    "    Q2 0 DOC3 1\n",
    "    \n",
    "We store the run and qrel in files `example.run` and `example.qrel` respectively on disk. We can now use TREC Eval to compute evaluation measures. In this example, we're only interested in Mean Average Precision and we'll only show this below for brevity. However, TREC Eval outputs much more information such as NDCG, recall, precision, etc.\n",
    "\n",
    "    $ trec_eval -m all_trec -q example.qrel example.run | grep -E \"^map\\s\"\n",
    "    > map                   \tQ1\t1.0000\n",
    "    > map                   \tQ2\t0.5000\n",
    "    > map                   \tall\t0.7500\n",
    "    \n",
    "Now that we've discussed the output format of rankings and how you can compute evaluation measures from these rankings, we'll now proceed with an overview of the indexing framework you'll use."
   ]
  },
  {
   "cell_type": "markdown",
   "metadata": {},
   "source": [
    "### Pyndri primer ###\n",
    "For this assignment you will use [Pyndri](https://github.com/cvangysel/pyndri) [[1](https://arxiv.org/abs/1701.00749)], a python interface for [Indri](https://www.lemurproject.org/indri.php). We have indexed the document collection and you can query the index using Pyndri. We will start by giving you some examples of what Pyndri can do:\n",
    "\n",
    "First we read the document collection index with Pyndri:"
   ]
  },
  {
   "cell_type": "code",
   "execution_count": 3,
   "metadata": {
    "collapsed": false,
    "scrolled": true
   },
   "outputs": [],
   "source": [
    "import pyndri\n",
    "\n",
    "index = pyndri.Index('index/')"
   ]
  },
  {
   "cell_type": "markdown",
   "metadata": {},
   "source": [
    "The loaded index can be used to access a collection of documents in an easy manner. We'll give you some examples to get some idea of what it can do, it is up to you to figure out how to use it for the remainder of the assignment.\n",
    "\n",
    "First let's look at the number of documents, since Pyndri indexes the documents using incremental identifiers we can simply take the lowest index and the maximum document and consider the difference:"
   ]
  },
  {
   "cell_type": "code",
   "execution_count": 4,
   "metadata": {
    "collapsed": false
   },
   "outputs": [
    {
     "name": "stdout",
     "output_type": "stream",
     "text": [
      "There are 164597 documents in this collection.\n"
     ]
    }
   ],
   "source": [
    "print(\"There are %d documents in this collection.\" % (index.maximum_document() - index.document_base()))"
   ]
  },
  {
   "cell_type": "markdown",
   "metadata": {},
   "source": [
    "Let's take the first document out of the collection and take a look at it:"
   ]
  },
  {
   "cell_type": "code",
   "execution_count": 5,
   "metadata": {
    "collapsed": false,
    "scrolled": true
   },
   "outputs": [
    {
     "name": "stdout",
     "output_type": "stream",
     "text": [
      "('AP890425-0001', (1360, 192, 363, 0, 880, 0, 200, 0, 894, 412, 92160, 3, 192, 0, 363, 34, 1441, 0, 174134, 0, 200, 0, 894, 412, 2652, 0, 810, 107, 49, 4903, 420, 0, 1, 48, 35, 489, 0, 35, 687, 192, 243, 0, 249311, 1877, 0, 1651, 1174, 0, 2701, 117, 412, 0, 810, 391, 245233, 1225, 5838, 16, 0, 233156, 3496, 0, 393, 17, 0, 2435, 4819, 930, 0, 0, 200, 0, 894, 0, 22, 398, 145, 0, 3, 271, 115, 0, 1176, 2777, 292, 0, 725, 192, 0, 0, 50046, 0, 1901, 1130, 0, 192, 0, 408, 0, 243779, 0, 0, 553, 192, 0, 363, 0, 3747, 0, 0, 0, 0, 1176, 0, 1239, 0, 0, 1115, 17, 0, 0, 585, 192, 1963, 0, 0, 412, 54356, 0, 773, 0, 0, 0, 192, 0, 0, 1130, 0, 363, 0, 545, 192, 0, 1174, 1901, 1130, 0, 4, 398, 145, 39, 0, 577, 0, 355, 0, 491, 0, 6025, 0, 0, 193156, 88, 34, 437, 0, 0, 1852, 0, 828, 0, 1588, 0, 0, 0, 2615, 0, 0, 107, 49, 420, 0, 0, 190, 7, 714, 2701, 0, 237, 192, 157, 0, 412, 34, 437, 0, 0, 200, 6025, 26, 0, 0, 0, 0, 363, 0, 22, 398, 145, 0, 200, 638, 126222, 6018, 0, 880, 0, 0, 161, 0, 0, 319, 894, 2701, 0, 0, 0, 301, 1200, 0, 363, 251, 430, 0, 207, 0, 76143, 1773, 0, 243779, 0, 0, 72030, 0, 55, 4903, 420, 0, 2701, 1496, 420, 0, 25480, 0, 420, 0, 0, 200, 0, 392, 2949, 0, 1738, 0, 61, 0, 71, 79, 0, 200, 903, 0, 188, 53, 6, 0, 476, 2, 0, 2028, 97, 334, 0, 0, 200, 178, 0, 0, 107, 49, 0, 214, 0, 0, 0, 114, 3866, 1505, 195, 79893, 574, 0, 198, 2160, 0, 192, 0, 420, 0, 384, 0, 2701, 0, 114, 6025, 1549, 74627, 0, 238, 0, 0, 0, 3729, 0, 192, 0, 79893, 0, 0, 729, 3141, 129, 0, 192, 196764, 39, 0, 0, 714, 63, 0, 55, 420, 3356, 0, 0, 117, 412, 0, 0, 79758, 0, 1901, 1130, 4067, 2133, 0, 0, 875, 72, 0, 0, 336, 2789, 0, 0, 25, 920, 121, 104, 0, 3162, 0, 0, 420, 0, 2178, 0, 0, 386, 192545, 159306, 0, 0, 0, 1914, 0, 200, 0, 1794, 0, 2654, 0, 0, 25480, 420, 0, 2795, 0, 0, 229690, 0, 32559, 0, 0, 392, 253919, 0, 0, 0, 0, 379, 0, 0, 114, 0, 553, 10, 0, 1128, 0, 23610, 248, 151, 0, 418, 0, 651, 0, 36, 0, 0, 645, 0, 0, 513, 0, 0, 25480, 420, 34, 0, 0, 0, 15, 0, 3348, 0, 3496, 0, 35, 687, 0, 1, 48, 0, 0, 2803, 0, 0, 714, 1274, 0, 114, 62, 1006, 70268, 1200, 2357, 0, 497, 0, 497, 125, 0, 913, 4647, 3985, 0, 0, 3370, 245233, 0, 0, 687, 0, 4, 1288, 0, 0, 0, 0, 715, 0, 0, 687, 583, 0, 0, 1627, 0, 0, 11, 357, 1359, 0, 849, 0, 0, 1518, 462, 245233, 0, 0, 0, 0, 0, 0, 171, 70268, 0)) lol\n"
     ]
    }
   ],
   "source": [
    "example_document = index.document(index.document_base())\n",
    "print(example_document, 'lol')"
   ]
  },
  {
   "cell_type": "markdown",
   "metadata": {},
   "source": [
    "Here we see a document consists of two things, a string representing the external document identifier and an integer list representing the identifiers of words that make up the document. Pyndri uses integer representations for words or terms, thus a token_id is an integer that represents a word whereas the token is the actual text of the word/term. Every id has a unique token and vice versa with the exception of stop words: words so common that there are uninformative, all of these receive the zero id.\n",
    "\n",
    "To see what some ids and their matching tokens we take a look at the dictionary of the index:"
   ]
  },
  {
   "cell_type": "code",
   "execution_count": 6,
   "metadata": {
    "collapsed": false
   },
   "outputs": [
    {
     "name": "stdout",
     "output_type": "stream",
     "text": [
      "[(1, 'new'), (2, 'percent'), (3, 'two'), (4, '1'), (5, 'people'), (6, 'million'), (7, '000'), (8, 'government'), (9, 'president'), (10, 'years'), (11, 'state'), (12, '2'), (13, 'states'), (14, 'three'), (15, 'time')]\n"
     ]
    }
   ],
   "source": [
    "token2id, id2token, _ = index.get_dictionary()\n",
    "print(list(id2token.items())[:15])"
   ]
  },
  {
   "cell_type": "markdown",
   "metadata": {},
   "source": [
    "Using this dictionary we can see the tokens for the (non-stop) words in our example document:"
   ]
  },
  {
   "cell_type": "code",
   "execution_count": 7,
   "metadata": {
    "collapsed": false
   },
   "outputs": [
    {
     "name": "stdout",
     "output_type": "stream",
     "text": [
      "['52', 'students', 'arrested', 'takeover', 'university', 'massachusetts', 'building', 'fifty', 'two', 'students', 'arrested', 'tuesday', 'evening', 'occupying', 'university', 'massachusetts', 'building', 'overnight', 'protest', 'defense', 'department', 'funded', 'research', 'new', 'york', 'city', 'thousands', 'city', 'college', 'students', 'got', 'unscheduled', 'holiday', 'demonstrators', 'occupied', 'campus', 'administration', 'building', 'protest', 'possible', 'tuition', 'increases', 'prompting', 'officials', 'suspend', 'classes', '60', 'police', 'riot', 'gear', 'arrived', 'university', 'massachusetts', '5', 'p', 'm', 'two', 'hours', 'later', 'bus', 'drove', 'away', '29', 'students', 'camped', 'memorial', 'hall', 'students', 'charged', 'trespassing', '23', 'students', 'arrested', 'lying', 'bus', 'prevent', 'leaving', 'police', '300', 'students', 'stood', 'building', 'chanting', 'looking', 'students', 'hall', 'arrested', '35', 'students', 'occupied', 'memorial', 'hall', '1', 'p', 'm', 'monday', 'declined', 'offer', 'meet', 'administrators', 'provosts', 'office', 'tuesday', 'morning', 'presented', 'list', 'demands', 'halt', 'defense', 'department', 'research', '25', '000', 'student', 'campus', '40', 'students', 'left', 'building', 'tuesday', 'morning', 'university', 'administrators', 'told', 'arrested', '5', 'p', 'm', 'university', 'spokeswoman', 'jeanne', 'hopkins', 'takeover', 'second', 'western', 'massachusetts', 'campus', 'seven', 'protesters', 'arrested', 'april', '19', 'charges', 'disorderly', 'conduct', 'trespassing', 'demonstrating', 'military', 'funded', 'research', 'campus', 'particularly', 'research', 'anthrax', 'research', 'university', 'non', 'classified', 'researchers', 'make', 'work', 'public', 'university', 'rules', '11', '6', 'million', '22', 'percent', 'grant', 'money', 'received', 'university', 'came', 'defense', 'department', '1988', 'school', 'chancellor', 'joseph', 'd', 'duffey', 'issued', 'statement', 'telling', 'students', 'research', 'continue', 'campus', 'school', 'administrators', 'decide', 'differently', 'policy', 'negotiated', 'students', 'duffey', 'latest', 'occupation', 'began', 'students', 'rallying', 'monday', 'student', 'union', 'military', 'research', 'marched', 'administration', 'building', 'ducked', 'memorial', 'hall', 'en', 'route', 'followed', 'members', 'local', 'chapter', 'american', 'friends', 'service', 'committee', 'contended', 'research', 'dangerous', 'town', 'promotes', 'militarism', 'banned', 'university', 'argued', 'purpose', 'anthrax', 'research', 'peaceful', 'strain', 'bacteria', 'non', 'virulent', 'study', 'school', '23', 'years', 'incident', 'amherst', 'health', 'board', 'scheduled', 'hearing', 'wednesday', 'question', 'safety', 'anthrax', 'research', 'tuesday', 'time', '1969', 'classes', 'city', 'college', 'new', 'york', 'canceled', 'student', 'protests', 'school', 'spokesman', 'charles', 'deciccio', 'protesters', 'demanding', 'face', 'face', 'meeting', 'gov', 'mario', 'cuomo', 'feared', 'tuition', 'college', '1', '250', 'increased', 'college', 'staff', 'reduced', 'state', 'budget', 'cuts', 'governor', 'immediate', 'comment', 'tuition', 'set', 'deciccio']\n"
     ]
    }
   ],
   "source": [
    "print([id2token[word_id] for word_id in example_document[1] if word_id > 0])"
   ]
  },
  {
   "cell_type": "markdown",
   "metadata": {},
   "source": [
    "The reverse can also be done, say we want to look for news about the \"University of Massachusetts\", the tokens of that query can be converted to ids using the reverse dictionary:"
   ]
  },
  {
   "cell_type": "code",
   "execution_count": 8,
   "metadata": {
    "collapsed": false
   },
   "outputs": [
    {
     "name": "stdout",
     "output_type": "stream",
     "text": [
      "Query by tokens: ['university', '', 'massachusetts']\n",
      "Query by ids with stopwords: [200, 0, 894]\n",
      "Query by ids without stopwords: [200, 894]\n"
     ]
    }
   ],
   "source": [
    "query_tokens = index.tokenize(\"University of Massachusetts\")\n",
    "print(\"Query by tokens:\", query_tokens)\n",
    "query_id_tokens = [token2id.get(query_token,0) for query_token in query_tokens]\n",
    "print(\"Query by ids with stopwords:\", query_id_tokens)\n",
    "query_id_tokens = [word_id for word_id in query_id_tokens if word_id > 0]\n",
    "print(\"Query by ids without stopwords:\", query_id_tokens)"
   ]
  },
  {
   "cell_type": "markdown",
   "metadata": {},
   "source": [
    "Naturally we can now match the document and query in the id space, let's see how often a word from the query occurs in our example document:"
   ]
  },
  {
   "cell_type": "code",
   "execution_count": 9,
   "metadata": {
    "collapsed": false
   },
   "outputs": [
    {
     "name": "stdout",
     "output_type": "stream",
     "text": [
      "Document AP890425-0001 has 13 word matches with query: \"university  massachusetts\".\n",
      "Document AP890425-0001 and query \"university  massachusetts\" have a 2.5% overlap.\n"
     ]
    }
   ],
   "source": [
    "matching_words = sum([True for word_id in example_document[1] if word_id in query_id_tokens])\n",
    "print(\"Document %s has %d word matches with query: \\\"%s\\\".\" % (example_document[0], matching_words, ' '.join(query_tokens)))\n",
    "print(\"Document %s and query \\\"%s\\\" have a %.01f%% overlap.\" % (example_document[0], ' '.join(query_tokens),matching_words/float(len(example_document[1]))*100))"
   ]
  },
  {
   "cell_type": "markdown",
   "metadata": {},
   "source": [
    "While this is certainly not everything Pyndri can do, it should give you an idea of how to use it. Please take a look at the [examples](https://github.com/cvangysel/pyndri) as it will help you a lot with this assignment.\n",
    "\n",
    "**CAUTION**: Avoid printing out the whole index in this Notebook as it will generate a lot of output and is likely to corrupt the Notebook."
   ]
  },
  {
   "cell_type": "markdown",
   "metadata": {},
   "source": [
    "### Parsing the query file\n",
    "You can parse the query file (`ap_88_89/topics_title`) using the following snippet:"
   ]
  },
  {
   "cell_type": "code",
   "execution_count": 10,
   "metadata": {
    "collapsed": false
   },
   "outputs": [
    {
     "name": "stdout",
     "output_type": "stream",
     "text": [
      "OrderedDict([('51', 'Airbus Subsidies'), ('52', 'South African Sanctions'), ('53', 'Leveraged Buyouts'), ('54', 'Satellite Launch Contracts'), ('55', 'Insider Trading'), ('56', 'Prime (Lending) Rate Moves, Predictions'), ('57', 'MCI'), ('58', 'Rail Strikes'), ('59', 'Weather Related Fatalities'), ('60', 'Merit-Pay vs. Seniority'), ('61', 'Israeli Role in Iran-Contra Affair'), ('62', \"Military Coups D'etat\"), ('63', 'Machine Translation'), ('64', 'Hostage-Taking'), ('65', 'Information Retrieval Systems'), ('66', 'Natural Language Processing'), ('67', 'Politically Motivated Civil Disturbances'), ('68', 'Health Hazards from Fine-Diameter Fibers'), ('69', 'Attempts to Revive the SALT II Treaty'), ('70', 'Surrogate Motherhood'), ('71', 'Border Incursions'), ('72', 'Demographic Shifts in the U.S.'), ('73', 'Demographic Shifts across National Boundaries'), ('74', 'Conflicting Policy'), ('75', 'Automation'), ('76', 'U.S. Constitution - Original Intent'), ('77', 'Poaching'), ('78', 'Greenpeace'), ('79', 'FRG Political Party Positions'), ('80', '1988 Presidential Candidates Platforms'), ('81', 'Financial crunch for televangelists in the wake of the PTL scandal'), ('82', 'Genetic Engineering'), ('83', 'Measures to Protect the Atmosphere'), ('84', 'Alternative/renewable Energy Plant & Equipment Installation'), ('85', 'Official Corruption'), ('86', 'Bank Failures'), ('87', 'Criminal Actions Against Officers of Failed Financial Institutions'), ('88', 'Crude Oil Price Trends'), ('89', '\"Downstream\" Investments by OPEC Member States'), ('90', 'Data on Proven Reserves of Oil & Natural Gas Producers'), ('91', 'U.S. Army Acquisition of Advanced Weapons Systems'), ('92', 'International Military Equipment Sales'), ('93', 'What Backing Does the National Rifle Association Have?'), ('94', 'Computer-aided Crime'), ('95', 'Computer-aided Crime Detection'), ('96', 'Computer-Aided Medical Diagnosis'), ('97', 'Fiber Optics Applications'), ('98', 'Fiber Optics Equipment Manufacturers'), ('99', 'Iran-Contra Affair'), ('100', 'Controlling the Transfer of High Technology'), ('101', 'Design of the \"Star Wars\" Anti-missile Defense System'), ('102', \"Laser Research Applicable to the U.S.'s Strategic Defense Initiative\"), ('103', 'Welfare Reform'), ('104', 'Catastrophic Health Insurance'), ('105', '\"Black Monday\"'), ('106', 'U.S. Control of Insider Trading'), ('107', 'Japanese Regulation of Insider Trading'), ('108', 'Japanese Protectionist Measures'), ('109', 'Find Innovative Companies'), ('110', 'Black Resistance Against the South African Government'), ('111', 'Nuclear Proliferation'), ('112', 'Funding Biotechnology'), ('113', 'New Space Satellite Applications'), ('114', 'Non-commercial Satellite Launches'), ('115', 'Impact of the 1986 Immigration Law'), ('116', 'Generic Drug Substitutions'), ('117', 'Capacity of the U.S. Cellular Telephone Network'), ('118', 'International Terrorists'), ('119', 'Actions Against International Terrorists'), ('120', 'Economic Impact of International Terrorism'), ('121', 'Death from Cancer'), ('122', 'RDT&E of New Cancer Fighting Drugs'), ('123', 'Research into & Control of Carcinogens'), ('124', 'Alternatives to Traditional Cancer Therapies'), ('125', 'Anti-smoking Actions by Government'), ('126', 'Medical Ethics and Modern Technology'), ('127', 'U.S.-U.S.S.R. Arms Control Agreements'), ('128', 'Privatization of State Assets'), ('129', 'Soviet Spying on the U.S.'), ('130', 'Jewish Emigration and U.S.-USSR Relations'), ('131', 'McDonnell Douglas Contracts for Military Aircraft'), ('132', '\"Stealth\" Aircraft'), ('133', 'Hubble Space Telescope'), ('134', 'The Human Genome Project'), ('135', 'Possible Contributions of Gene Mapping to Medicine'), ('136', 'Diversification by Pacific Telesis'), ('137', 'Expansion in the U.S. Theme Park Industry'), ('138', 'Iranian Support for Lebanese Hostage-takers'), ('139', \"Iran's Islamic Revolution - Domestic and Foreign Social Consequences\"), ('140', 'Political Impact of Islamic Fundamentalism'), ('141', \"Japan's Handling of its Trade Surplus with the U.S.\"), ('142', 'Impact of Government Regulated Grain Farming on International Relations'), ('143', 'Why Protect U.S. Farmers?'), ('144', 'Management Problems at the United Nations'), ('145', 'Influence of the \"Pro-Israel Lobby\"'), ('146', 'Negotiating an End to the Nicaraguan Civil War'), ('147', 'Productivity Trends in the U.S. Economy'), ('148', 'Conflict in the Horn of Africa'), ('149', 'Industrial Espionage'), ('150', 'U.S. Political Campaign Financing'), ('151', 'Coping with overcrowded prisons'), ('152', 'Accusations of Cheating by Contractors on U.S. Defense Projects'), ('153', 'Insurance Coverage which pays for Long Term Care'), ('154', 'Oil Spills'), ('155', 'Right Wing Christian Fundamentalism in U.S.'), ('156', 'Efforts to enact Gun Control Legislation'), ('157', 'Causes and treatments of multiple sclerosis (MS)'), ('158', 'Term limitations for members of the U.S. Congress'), ('159', 'Electric Car Development'), ('160', 'Vitamins - The Cure for or Cause of Human Ailments'), ('161', 'Acid Rain'), ('162', 'Automobile Recalls'), ('163', 'Vietnam Veterans and Agent Orange'), ('164', 'Generic Drugs - Illegal Activities by Manufacturers'), ('165', 'Tobacco company advertising and the young'), ('166', 'Standardized testing and cultural bias'), ('167', 'Regulation of the showing of violence and explicit sex in motion picture theaters, on television, and on video cassettes.'), ('168', 'Financing AMTRAK'), ('169', 'Cost of Garbage/Trash Removal'), ('170', 'The Consequences of Implantation of Silicone Gel Breast Devices'), ('171', \"Use of Mutual Funds in an Individual's Retirement Strategy\"), ('172', 'The Effectiveness of Medical Products and Related Programs Utilized in the Cessation of Smoking.'), ('173', 'Smoking Bans'), ('174', 'Hazardous Waste Cleanup'), ('175', 'NRA Prevention of Gun Control Legislation'), ('176', 'Real-life private investigators'), ('177', 'English as the Official Language in U.S.'), ('178', 'Dog Maulings'), ('179', 'U. S. Restaurants in Foreign Lands'), ('180', 'Ineffectiveness of U.S. Embargoes/Sanctions'), ('181', 'Abuse of the Elderly by Family Members, and Medical and Nonmedical Personnel, and Initiatives Being Taken to Minimize This Mistreatment'), ('182', 'Commercial Overfishing Creates Food Fish Deficit'), ('183', 'Asbestos Related Lawsuits'), ('184', 'Corporate Pension Plans/Funds'), ('185', 'Reform of the U.S. Welfare System'), ('186', 'Difference of Learning Levels Among Inner City and More Suburban School Students'), ('187', 'Signs of the Demise of Independent Publishing'), ('188', 'Beachfront Erosion'), ('189', 'Real Motives for Murder'), ('190', 'Instances of Fraud Involving the Use of a Computer'), ('191', 'Efforts to Improve U.S. Schooling'), ('192', 'Oil Spill Cleanup'), ('193', 'Toys R Dangerous'), ('194', 'The Amount of Money Earned by Writers'), ('195', 'Stock Market Perturbations Attributable to Computer Initiated Trading'), ('196', 'School Choice Voucher System and its effects upon the entire U.S. educational program'), ('197', 'Reform of the jurisprudence system to stop juries from granting unreasonable monetary awards'), ('198', 'Gene Therapy and Its Benefits to Humankind'), ('199', 'Legality of Medically Assisted Suicides'), ('200', 'Impact of foreign textile imports on U.S. textile industry')])\n"
     ]
    }
   ],
   "source": [
    "import collections\n",
    "import io\n",
    "import logging\n",
    "import sys\n",
    "\n",
    "def parse_topics(file_or_files,\n",
    "                 max_topics=sys.maxsize, delimiter=';'):\n",
    "    assert max_topics >= 0 or max_topics is None\n",
    "\n",
    "    topics = collections.OrderedDict()\n",
    "\n",
    "    if not isinstance(file_or_files, list) and \\\n",
    "            not isinstance(file_or_files, tuple):\n",
    "        if hasattr(file_or_files, '__iter__'):\n",
    "            file_or_files = list(file_or_files)\n",
    "        else:\n",
    "            file_or_files = [file_or_files]\n",
    "\n",
    "    for f in file_or_files:\n",
    "        assert isinstance(f, io.IOBase)\n",
    "\n",
    "        for line in f:\n",
    "            assert(isinstance(line, str))\n",
    "\n",
    "            line = line.strip()\n",
    "\n",
    "            if not line:\n",
    "                continue\n",
    "\n",
    "            topic_id, terms = line.split(delimiter, 1)\n",
    "\n",
    "            if topic_id in topics and (topics[topic_id] != terms):\n",
    "                    logging.error('Duplicate topic \"%s\" (%s vs. %s).',\n",
    "                                  topic_id,\n",
    "                                  topics[topic_id],\n",
    "                                  terms)\n",
    "\n",
    "            topics[topic_id] = terms\n",
    "\n",
    "            if max_topics > 0 and len(topics) >= max_topics:\n",
    "                break\n",
    "\n",
    "    return topics\n",
    "\n",
    "with open('./ap_88_89/topics_title', 'r') as f_topics:\n",
    "    print(parse_topics([f_topics]))"
   ]
  },
  {
   "cell_type": "markdown",
   "metadata": {},
   "source": [
    "### Task 1: Implement and compare lexical IR methods [45 points] ### \n",
    "\n",
    "In this task you will implement a number of lexical methods for IR using the **Pyndri** framework. Then you will evaluate these methods on the dataset we have provided using **TREC Eval**.\n",
    "\n",
    "Use the **Pyndri** framework to get statistics of the documents (term frequency, document frequency, collection frequency; **you are not allowed to use the query functionality of Pyndri**) and implement the following scoring methods in **Python**:\n",
    "\n",
    "- [TF-IDF](http://nlp.stanford.edu/IR-book/html/htmledition/tf-idf-weighting-1.html). **[5 points]**\n",
    "- [BM25](http://nlp.stanford.edu/IR-book/html/htmledition/okapi-bm25-a-non-binary-model-1.html) with k1=1.2 and b=0.75. **[5 points]**\n",
    "- Language models ([survey](https://drive.google.com/file/d/0B-zklbckv9CHc0c3b245UW90NE0/view))\n",
    "    - Jelinek-Mercer (explore different values of 𝛌 in the range [0.1, 0.2, ..., 0.9]). **[5 points]**\n",
    "    - Dirichlet Prior (explore different values of 𝛍 [500, 1000, ..., 2000]). **[5 points]**\n",
    "    - Absolute discounting (explore different values of 𝛅 in the range [0.1, 0.2, ..., 0.9]). **[5 points]**\n",
    "    - [Positional Language Models](http://sifaka.cs.uiuc.edu/~ylv2/pub/sigir09-plm.pdf) define a language model for each position of a document, and score a document based on the scores of its PLMs. The PLM is estimated based on propagated counts of words within a document through a proximity-based density function, which both captures proximity heuristics and achieves an effect of “soft” passage retrieval. Implement the PLM, all five kernels, but only the Best position strategy to score documents. Use 𝛔 equal to 50, and Dirichlet smoothing with 𝛍 optimized on the validation set (decide how to optimize this value yourself and motivate your decision in the report). **[10 points]**\n",
    "    \n",
    "Implement the above methods and report evaluation measures (on the test set) using the hyper parameter values you optimized on the validation set (also report the values of the hyper parameters). Use TREC Eval to obtain the results and report on `NDCG@10`, Mean Average Precision (`MAP@1000`), `Precision@5` and `Recall@1000`.\n",
    "\n",
    "For the language models, create plots showing `NDCG@10` with varying values of the parameters. You can do this by chaining small scripts using shell scripting (preferred) or execute trec_eval using Python's `subprocess`.\n",
    "\n",
    "Compute significance of the results using a [two-tailed paired Student t-test](https://docs.scipy.org/doc/scipy/reference/generated/scipy.stats.ttest_rel.html) **[10 points]**. Be wary of false rejection of the null hypothesis caused by the [multiple comparisons problem](https://en.wikipedia.org/wiki/Multiple_comparisons_problem). There are multiple ways to mitigate this problem and it is up to you to choose one.\n",
    "\n",
    "Analyse the results by identifying specific queries where different methods succeed or fail and discuss possible reasons that cause these differences.\n",
    "\n",
    "**NOTE**: Don’t forget to use log computations in your calculations to avoid underflows. "
   ]
  },
  {
   "cell_type": "markdown",
   "metadata": {},
   "source": [
    "In the below cell all methods that are necessary for task 1 are created."
   ]
  },
  {
   "cell_type": "code",
   "execution_count": 20,
   "metadata": {
    "collapsed": false
   },
   "outputs": [],
   "source": [
    "##########################################################################################################################\n",
    "# Methods Task 1\n",
    "##########################################################################################################################\n",
    "\n",
    "def scoring(docFreq, termFreq, colFreq, docLen, colLen, avgDocLen, docWords, colWords, docs, queries, invIndex, model, parameter = 0.0):\n",
    "    \"\"\"\n",
    "    Calculates the score for each document-query pair.\n",
    "    Input:\n",
    "    docFreq: frequency of documents a term occurs in. Dictionary {term: frequency}\n",
    "    termFreq: frequency of terms in a document. Dictionary of dictionaries {DOCID, {term: frequency, term: frequency}}\n",
    "    colFreq: frequency of terms in the collection. Dictionary {term: frequency}\n",
    "    docLen: total number of words per document. Dictionary {DOCID: #words}\n",
    "    colLen: total number of words in the collection. Integer\n",
    "    avgDocLen: average number of words in a document. Float\n",
    "    docWords: number of unique words per document. Dictionary {DOCID: #unique}\n",
    "    colWords: number of unique words in the collection. Integer\n",
    "    docs: total number of documents. Integer\n",
    "    queries: parsed query file. Dictionary {QID : query}\n",
    "    invIndex: Inverted index that maps the documents a term occurs in. Dictionary {term: [DOCID's]}\n",
    "    model: The model to score with. \n",
    "        TF-IDF: tf-idf scoring model.\n",
    "        BM25: BM 25 scoring model.\n",
    "        JM:  language model with Jellinek-Mercer smoothing.\n",
    "        D: language model with Dirichlet smoothing.\n",
    "        AD: language model with absolute discounting.\n",
    "    parameter: specify lambda for JM, mu for D and delta for AD.\n",
    "    Output:\n",
    "    score: score for each query-document pair. Dictionary of lists of tuples {Q_ID: [(score, Doc_ID), (score, Doc_ID)]}\n",
    "    \"\"\"\n",
    "    \n",
    "    # Create a dictionary with empty lists to store scores for each doc-query pair\n",
    "    score = {}\n",
    "\n",
    "    # Preprocess queries to a list of tokens without stopwords    \n",
    "    queryTokens = {}\n",
    "    for QID,query in queries.items():\n",
    "        queryTokens[QID] = preprocess_query(query)\n",
    "    \n",
    "    # \"Switch\" statement for different models\n",
    "    if model == \"TF-IDF\":\n",
    "        for QID in queries:\n",
    "            score[QID] = []\n",
    "\n",
    "        for QID, query in queryTokens.items():\n",
    "            documents = set()\n",
    "            for term in query:\n",
    "                documents.update(invIndex[term])\n",
    "            for ID in documents:\n",
    "                length = docLen[ID]\n",
    "                relevance = 0.0\n",
    "                for term in query:\n",
    "                    if term in termFreq[ID]:\n",
    "                        df = docFreq[term]\n",
    "                        frequency = termFreq[ID][term]\n",
    "                        relevance += tf_idf(df,frequency,docs)\n",
    "                score[QID].append((relevance, ID))\n",
    "    elif model == \"BM25\":\n",
    "        for QID in queries:\n",
    "            score[QID] = []\n",
    "\n",
    "        for QID, query in queryTokens.items():\n",
    "            documents = set()\n",
    "            for term in query:\n",
    "                documents.update(invIndex[term])\n",
    "            for ID in documents:\n",
    "                length = docLen[ID]\n",
    "                score[QID].append((bm25_relevance(docFreq,termFreq[ID],length,avgDocLen,query,docs),ID))\n",
    "    elif model == \"JM\":\n",
    "        lamb = parameter\n",
    "\n",
    "        for QID in queries:\n",
    "            score[QID] = []\n",
    "\n",
    "        for QID, query in queryTokens.items():\n",
    "            documents = set()\n",
    "            for term in query:\n",
    "                documents.update(invIndex[term])\n",
    "            for ID in documents:\n",
    "                length = docLen[ID]\n",
    "                score[QID].append((jellinek_mercer_relevance(docFreq,termFreq[ID],colFreq, length, colLen,query,lamb),ID))\n",
    "    elif model == \"D\":\n",
    "        mu = parameter\n",
    "        \n",
    "        for QID in queries:\n",
    "            score[QID] = []\n",
    "\n",
    "        for QID, query in queryTokens.items():\n",
    "            documents = set()\n",
    "            for term in query:\n",
    "                documents.update(invIndex[term])\n",
    "            for ID in documents:\n",
    "                length = docLen[ID]\n",
    "                score[QID].append((dirichlet_relevance(termFreq[ID], colFreq, length, colLen, query, mu),ID))\n",
    "    elif model == \"AD\":\n",
    "        delta = parameter\n",
    "\n",
    "        for QID in queries:\n",
    "            score[QID] = []\n",
    "\n",
    "        for QID, query in queryTokens.items():\n",
    "            documents = set()\n",
    "            for term in query:\n",
    "                documents.update(invIndex[term])\n",
    "            for ID in documents:\n",
    "                length = docLen[ID]\n",
    "                words = docWords[ID]\n",
    "                score[QID].append((absolute_discounting_relevance(termFreq[ID],colFreq,colLen,length,words,query,delta),ID))\n",
    "    elif model == \"PLM\":\n",
    "        mu = parameter\n",
    "        \n",
    "        for QID in queries:\n",
    "            score[QID] = []\n",
    "            \n",
    "        for QID, query in queryTokens.items():\n",
    "            documents = set()\n",
    "            for term in query:\n",
    "                documents.update(invIndex[term])\n",
    "            for ID in documents:\n",
    "                length = docLen[ID]\n",
    "                score[QID].append((plm_relevance(),ID))       \n",
    "    else:\n",
    "        print(\"Invalid model\")\n",
    "    \n",
    "    return score         \n",
    "         \n",
    "        \n",
    "def plm_relevance(termPos,querFreq,colFreq,querLen,docLen,colLen,queryTokens,mu,sigma,kern):\n",
    "    \"\"\"\n",
    "    Calculates the score of a document-query pair using a positional language model with given kernel.\n",
    "    Uses Dirichlet smoothing with given mu parameter.\n",
    "    \"\"\"\n",
    "    c = {}\n",
    "    score = []\n",
    "    \n",
    "    for term in queryTokens:\n",
    "        c[term] = {}\n",
    "        for i in range(docLen):\n",
    "            c[term][i] = 0.0\n",
    "            score.append(0.0)\n",
    "            for j in termPos[term]:\n",
    "                    c[term][i] += kernel(kern,i,j,sigma)\n",
    "    for term in queryTokens:\n",
    "        pWQ = float(querFreq[term])/querLen\n",
    "        pWC = float(colFreq[term]/colLen)\n",
    "        for i in range(docLen):\n",
    "            pWDi = c[term][i]/sum(c[key][i] for key in c)\n",
    "            score[i] += -pWQ * np.log2(pWQ/p[term][i])\n",
    "            \n",
    "    return max(score)\n",
    "            \n",
    "    \n",
    "def kernel(kern,i,j,sigma):\n",
    "    \"\"\"\n",
    "    Calculates a proximity based density function based on a given kernel, current position i, event position j and sigma.\n",
    "    sigma should be given as a float.\n",
    "    \"\"\"\n",
    "    \n",
    "    # Kernel \"switch\" statement\n",
    "    if kern == \"Gaussian\":\n",
    "        return np.exp((-(i-j)**2) / (2*sigma**2))\n",
    "    elif kern == \"Triangle\":\n",
    "        if abs(i-j) <= sigma:\n",
    "            return 1.0 - abs(i-j)/sigma\n",
    "        else:\n",
    "            return 0.0\n",
    "    elif kern == \"Cosine\":\n",
    "        if abs(i-j) <= sigma:\n",
    "            return (1.0 + math.cos((abs(i-j)*math.pi)/sigma))/2.0\n",
    "        else:\n",
    "            return 0.0\n",
    "    elif kern == \"Circle\":\n",
    "        if abs(i-j) <= sigma:\n",
    "            return 1.0 - (abs(i-j)/sigma)**2.0\n",
    "        else:\n",
    "            return 0.0\n",
    "    elif kern == \"Passage\":\n",
    "        if abs(i-j) <= sigma:\n",
    "            return 1.0 \n",
    "        else:\n",
    "            return 0.0               \n",
    "    \n",
    "\n",
    "def tf_idf(df,tf,docs):\n",
    "    \"\"\"\n",
    "    Calculates the tf-idf of a term given the document frequency, term frequency and number of documents in the collection\n",
    "    \"\"\"\n",
    "    idf = float(docs)/df\n",
    "    return np.log10(1.0 + tf) * np.log10(idf)\n",
    "\n",
    "\n",
    "def tf_idf_relevance(tfIdf, queryTokens):\n",
    "    \"\"\" \n",
    "    Calculates the score of a document-query pair given the tf-idf of terms in the document and the query string\n",
    "    \"\"\"\n",
    "    relevance = 0.0\n",
    "    \n",
    "    # relevance = sum of tfidf for terms in query\n",
    "    for term in queryTokens:\n",
    "        if term in tfIdf:\n",
    "            relevance += tfIdf[term]\n",
    "        \n",
    "    return relevance\n",
    "    \n",
    "    \n",
    "def bm25_relevance(df,tf,docLen,avgDocLen,queryTokens,docs, k1 = 1.2, b = 0.75):\n",
    "    \"\"\"\n",
    "    Calculates the relevance of a document for a query using the BM25 model\n",
    "    \"\"\"\n",
    "    relevance = 0.0\n",
    "    \n",
    "    # Calculate BM25 relevance\n",
    "    for term in queryTokens:\n",
    "        if term in tf:\n",
    "            relevance += (((k1 + 1.0)*tf[term])/(k1*((1-b) + b*(float(docLen)/avgDocLen)) + tf[term])) * np.log10(float(docs)/df[term])\n",
    "        \n",
    "    return relevance\n",
    "\n",
    "def jellinek_mercer_relevance(df,tf,cf,docLen,colLen,queryTokens,lamb):\n",
    "    \"\"\"\n",
    "    Calculates the relevance of a document for a query using a basic language model with jellinek mercer smoothing.\n",
    "    \"\"\"\n",
    "    relevance = 1.0\n",
    "    \n",
    "    # Calculate likelihood for a query given a document, smoothing the word likelihoods with collection information\n",
    "    for term in queryTokens:\n",
    "        if term in tf:\n",
    "            relevance *= (lamb * (float(tf[term])/docLen) + (1-lamb) * (float(cf[term])/colLen))\n",
    "        else:\n",
    "            relevance *= ((1-lamb) * (float(cf[term])/colLen))\n",
    "        \n",
    "    # Relevance is the log-likelihood\n",
    "    return np.log10(relevance)\n",
    "\n",
    "\n",
    "def absolute_discounting_relevance(tf,cf,colLen,docLen,docWords,queryTokens, delta):\n",
    "    \"\"\"\n",
    "    Calculates the relevance of a document for a query using a basic language model with absolute discounting smoothing.\n",
    "    \"\"\"\n",
    "    relevance = 1.0\n",
    "    \n",
    "    # Calculate likehood for a query given a document, smoothing the word likelihoods with collection information\n",
    "    for term in queryTokens:\n",
    "        if term in tf:\n",
    "            relevance *= (max(tf[term] - delta, 0)/float(docLen) + (delta * docWords / docLen) * (float(cf[term])/colLen))\n",
    "        else:\n",
    "            relevance *= ((delta * docWords / docLen) * (float(cf[term])/colLen))\n",
    "        \n",
    "    # Relevance is the log-likelihood\n",
    "    return np.log10(relevance)\n",
    "\n",
    "def dirichlet_relevance(tf, cf, docLen, colLen, queryTokens, mu):\n",
    "    \"\"\"\n",
    "    Calculates the relevance of a document for a query using a basic language model with absolute discounting smoothing.\n",
    "    \"\"\"\n",
    "    relevance = 1.0\n",
    "    \n",
    "    # Calculate likehood for a query given a document, smoothing the word likelihoods with a dirichlet prior\n",
    "    for term in queryTokens:\n",
    "        if term in tf:\n",
    "            relevance *= ((float(docLen) / (docLen + mu)) * (tf[term]/float(docLen)) + (float(mu)/(mu+docLen)) * (float(cf[term])/colLen))\n",
    "        else:\n",
    "            relevance *= ((float(mu)/(mu+docLen)) * (float(cf[term])/colLen))\n",
    "    \n",
    "    # Relevance is the log-likelihood\n",
    "    return np.log10(relevance)\n",
    "    \n",
    "\n",
    "def preprocess_query(query):\n",
    "    \"\"\"\n",
    "    Preprocess a query string to a list of tokens without stopwords.\n",
    "    \"\"\"\n",
    "    query = index.tokenize(query)\n",
    "    queryTokens = [token2id.get(q,0) for q in query]\n",
    "    queryTokens = [word_id for word_id in queryTokens if word_id > 0]\n",
    "    return queryTokens\n",
    "\n",
    "\n",
    "def calc_TF(queries):\n",
    "    \"\"\"\n",
    "    This function takes all the queries as the input and returns term frequencies and number of unique words \n",
    "    in each document.\n",
    "    Term frequency data structure is a dictionary of dictionary. Where, for each document id you get a dictionary which contains the\n",
    "    term frequencies for the query vocabulary.\n",
    "    \"\"\"\n",
    "    query = []\n",
    "    token2id, id2token, id2df = index.get_dictionary()\n",
    "    \n",
    "    for query_id in queries:\n",
    "        query_tokens = index.tokenize(queries[query_id])\n",
    "        query_id_tokens = [token2id.get(query_token,0) for query_token in query_tokens]\n",
    "        query.extend([word_id for word_id in query_id_tokens if word_id > 0])\n",
    "    \n",
    "    docs = []\n",
    "    \n",
    "    for docID in range(index.document_base(),index.maximum_document()):\n",
    "        docs.append(index.document(docID))\n",
    "\n",
    "    termFreq = {}\n",
    "    uniqWords = {}\n",
    "    invertedIndx = {}\n",
    "    \n",
    "    for q in query:\n",
    "        invertedIndx[q] = []\n",
    "    \n",
    "    for docID in range(index.maximum_document()-1):\n",
    "        tf_doc = Counter(docs[docID][1])\n",
    "        tf_doc = dict(tf_doc)\n",
    "        temp = {}\n",
    "#         temp = {q:tf_doc[q] for q in query if q in tf_doc.keys()}\n",
    "        for q in query:\n",
    "            if q in tf_doc.keys():\n",
    "                temp[q] = tf_doc[q]\n",
    "                invertedIndx[q].append(docs[docID][0]) \n",
    "        termFreq[docs[docID][0]] = temp\n",
    "        uniqWords[docs[docID][0]] = len(tf_doc.keys())-1\n",
    "    return termFreq, uniqWords, invertedIndx\n",
    "\n",
    "def avg_doc_length():\n",
    "    \"\"\"\n",
    "    Calculates the average length of documents in the collection. \n",
    "    Also returns a dictionary of the number of words in each document.\n",
    "    \"\"\"\n",
    "    docLength = {}\n",
    "    docLengthsum = 0\n",
    "    for docID in range(index.document_base(),index.maximum_document()):\n",
    "        length = index.document_length(docID)\n",
    "        docLength[index.ext_document_id(docID)] = length\n",
    "        docLengthsum += length\n",
    "    return docLength, docLengthsum/(index.maximum_document()-index.document_base())\n",
    "\n",
    "\n",
    "class TrecEvaluator:\n",
    "    \"\"\"\n",
    "    Class for running trec evaluations from python using shell scripting.\n",
    "    Credits and thanks to Jonas Kohler for providing the base for this class.\n",
    "    \"\"\"\n",
    "    \n",
    "    def __init__(self, validation_data, runfile_name=\"run\"):\n",
    "        self._runfile_name = runfile_name\n",
    "        self._validation_data = validation_data\n",
    "        \n",
    "    def evaluate(self, data, full):\n",
    "        with open(self._runfile_name, \"w\") as f:\n",
    "            write_run(\n",
    "                model_name=self._runfile_name,\n",
    "                data=data,\n",
    "                out_f=f,\n",
    "                max_objects_per_query=1000)\n",
    "        if full:\n",
    "            return self._call_trec_eval_full()\n",
    "        else:\n",
    "            return self._call_trec_eval()\n",
    "    \n",
    "    def _call_trec_eval(self):\n",
    "        cmd = ['./run_trec_eval.sh', self._validation_data, self._runfile_name]\n",
    "        p = subprocess.Popen(cmd, stdout=subprocess.PIPE)\n",
    "        result = {}\n",
    "        for line in p.stdout:\n",
    "            frags = line.decode().strip().split()\n",
    "            result[frags[0]] = float(frags[2])\n",
    "        p.wait()\n",
    "        return result\n",
    "    \n",
    "    def _call_trec_eval_full(self):\n",
    "        cmd = ['./run_trec_eval.sh', self._validation_data, self._runfile_name]\n",
    "        p = subprocess.Popen(cmd, stdout=subprocess.PIPE)\n",
    "        result = {}\n",
    "        for line in p.stdout:\n",
    "            frags = line.decode().strip().split()\n",
    "            if str(frags[0]) in result:\n",
    "                result[str(frags[0])].append(float(frags[2]))\n",
    "            else:\n",
    "                result[str(frags[0])] = [float(frags[2])]\n",
    "        p.wait()\n",
    "        return result\n",
    "        \n",
    "\n",
    "\n",
    "##########################################################################################################################\n",
    "# Computation\n",
    "##########################################################################################################################\n",
    "\n",
    "\n",
    "# TODO: Postional Language Models\n",
    "\n",
    "# TODO: Hyperparameter setting on validation set\n",
    "\n",
    "# Experiments and result collection using TREC eval \n",
    "\n",
    "# Paired student's t-test with Bonferonni correction on results"
   ]
  },
  {
   "cell_type": "markdown",
   "metadata": {},
   "source": [
    "In this cell all the necessary statistics about documents are collected."
   ]
  },
  {
   "cell_type": "code",
   "execution_count": 12,
   "metadata": {
    "collapsed": false
   },
   "outputs": [
    {
     "name": "stdout",
     "output_type": "stream",
     "text": [
      "26.569265604019165\n"
     ]
    }
   ],
   "source": [
    "##########################################################################################################################\n",
    "# Computation Task 1\n",
    "##########################################################################################################################\n",
    "\n",
    "# Pyndri document index\n",
    "index = pyndri.Index('index/')\n",
    "\n",
    "# Computing and storing all necessary statistics about documents, queries and the collection\n",
    "start = time.time()\n",
    "token2id, id2token, docFreq = index.get_dictionary() # index dictionaries and document frequency\n",
    "colFreq = index.get_term_frequencies() # total number of term occurences in entire collection per term\n",
    "docs = index.maximum_document() - index.document_base() # no of documents\n",
    "colWords = index.unique_terms() # number of unique words in the collection\n",
    "colLen = index.total_terms() # total number of words in the collection\n",
    "with open('./ap_88_89/topics_title', 'r') as f_topics:\n",
    "    queries = parse_topics([f_topics]) # query ID's paired with query in a dict\n",
    "termFreq, docWords, invIndex = calc_TF(queries) # term frequency and number of unique words per document\n",
    "docLen, avgDocLen = avg_doc_length() # length of each document and average document length\n",
    "valID = [103,111,114,120,123,135,143,144,151,155,158,165,167,170,173,180,182,192,53,57,69,74,78,86,89,90,92,93,94,95]\n",
    "valQueries = {} # queries of the validation set, for faster validation testing\n",
    "for key,query in queries.items():\n",
    "    i = int(key)\n",
    "    if i in valID:\n",
    "        valQueries[key] = query\n",
    "end = time.time()\n",
    "print(end-start)"
   ]
  },
  {
   "cell_type": "markdown",
   "metadata": {},
   "source": [
    "In this cell the scores are computed and stored."
   ]
  },
  {
   "cell_type": "code",
   "execution_count": 91,
   "metadata": {
    "collapsed": false
   },
   "outputs": [
    {
     "name": "stdout",
     "output_type": "stream",
     "text": [
      "Scoring Time JM: 24.01561141014099\n",
      "Pickle Time: 17.133845806121826\n"
     ]
    },
    {
     "name": "stderr",
     "output_type": "stream",
     "text": [
      "/home/student/.local/lib/python3.5/site-packages/ipykernel/__main__.py:249: RuntimeWarning: divide by zero encountered in log10\n"
     ]
    },
    {
     "name": "stdout",
     "output_type": "stream",
     "text": [
      "Scoring Time AD: 29.48025155067444\n",
      "Pickle Time: 13.467636108398438\n",
      "Scoring Time AD: 30.380563259124756\n",
      "Pickle Time: 14.0586097240448\n",
      "Scoring Time D: 27.716142892837524\n",
      "Pickle Time: 14.483813285827637\n"
     ]
    }
   ],
   "source": [
    "for parameter in np.arange(0.2,0.3,0.1):\n",
    "    start = time.time()\n",
    "    score = scoring(docFreq, termFreq, colFreq, docLen, colLen, avgDocLen, docWords, colWords, docs, queries,invIndex, \"JM\",parameter)\n",
    "    end = time.time()\n",
    "    print(\"Scoring Time JM: \" + str(end-start))\n",
    "\n",
    "    start = time.time()\n",
    "    pickle.dump(score, open('scoreJM' + str(parameter) + '.pkl', 'wb'))\n",
    "    end = time.time()\n",
    "    print(\"Pickle Time: \" + str(end-start))\n",
    "    \n",
    "for parameter in np.arange(0.7,0.8,0.1):\n",
    "    start = time.time()\n",
    "    score = scoring(docFreq, termFreq, colFreq, docLen, colLen, avgDocLen, docWords, colWords, docs, queries,invIndex, \"AD\",parameter)\n",
    "    end = time.time()\n",
    "    print(\"Scoring Time AD: \" + str(end-start))\n",
    "\n",
    "    start = time.time()\n",
    "    pickle.dump(score, open('scoreAD' + str(parameter) + '.pkl', 'wb'))\n",
    "    end = time.time()\n",
    "    print(\"Pickle Time: \" + str(end-start))\n",
    "    \n",
    "for parameter in np.arange(1500.0,2000.0,500.0):\n",
    "    start = time.time()\n",
    "    score = scoring(docFreq, termFreq, colFreq, docLen, colLen, avgDocLen, docWords, colWords, docs, queries,invIndex, \"D\",parameter)\n",
    "    end = time.time()\n",
    "    print(\"Scoring Time D: \" + str(end-start))\n",
    "\n",
    "    start = time.time()\n",
    "    pickle.dump(score, open('scoreD' + str(parameter) + '.pkl', 'wb'))\n",
    "    end = time.time()\n",
    "    print(\"Pickle Time: \" + str(end-start))\n"
   ]
  },
  {
   "cell_type": "markdown",
   "metadata": {},
   "source": [
    "In this cell TREC_EVAL validation is done for the language models and TREC_EVAl test for the best language models and other models. These results are stored"
   ]
  },
  {
   "cell_type": "code",
   "execution_count": 21,
   "metadata": {
    "collapsed": false
   },
   "outputs": [
    {
     "name": "stdout",
     "output_type": "stream",
     "text": [
      "{'scoreD1500.0': {'P_5': [0.4, 0.4, 0.4, 0.0, 0.0, 0.2, 0.8, 0.4, 0.0, 0.8, 0.4, 0.0, 0.0, 0.0, 0.0, 0.4, 0.8, 0.0, 0.2, 0.6, 1.0, 0.6, 0.0, 0.6, 0.0, 0.4, 0.0, 1.0, 1.0, 1.0, 0.2, 0.6, 0.0, 0.2, 0.4, 0.4, 0.6, 0.8, 0.8, 0.2, 0.6, 0.4, 0.4, 0.2, 0.6, 0.6, 0.6, 0.8, 0.6, 0.2, 1.0, 0.4, 1.0, 0.4, 0.6, 0.2, 0.4, 0.2, 0.2, 1.0, 0.4, 0.6, 0.8, 0.2, 0.2, 0.0, 1.0, 0.4, 0.6, 0.2, 0.2, 1.0, 0.6, 0.0, 0.0, 1.0, 0.0, 0.0, 0.6, 0.2, 0.6, 0.0, 0.8, 1.0, 1.0, 0.6, 0.0, 1.0, 1.0, 0.6, 0.0, 1.0, 0.0, 0.2, 0.0, 0.0, 0.0, 0.0, 0.8, 0.6, 1.0, 0.0, 0.0, 0.2, 0.0, 0.8, 0.0, 0.0, 0.6, 1.0, 0.2, 0.2, 1.0, 0.0, 0.2, 0.0, 0.6, 0.2, 0.6, 0.6, 0.42], 'recall_1000': [0.4651, 1.0, 0.8947, 0.9804, 0.0303, 0.766, 0.8667, 0.5213, 0.0, 0.6899, 1.0, 0.8125, 0.8354, 1.0, 0.9655, 0.4343, 0.4017, 0.4792, 0.95, 0.6207, 0.8632, 0.4023, 0.2061, 0.8929, 0.509, 0.7456, 1.0, 1.0, 1.0, 0.875, 1.0, 0.7222, 0.8889, 0.766, 0.88, 0.9091, 0.1994, 0.3689, 0.5437, 0.2119, 0.2, 0.6667, 0.2203, 0.299, 0.8649, 0.5244, 0.6727, 1.0, 0.6, 0.5385, 0.9925, 0.5, 0.9872, 0.9412, 0.8421, 0.9365, 0.875, 1.0, 0.875, 1.0, 0.8529, 0.2357, 0.8642, 0.7, 0.3415, 0.7, 1.0, 0.7955, 0.6381, 0.6279, 0.551, 0.8657, 0.2109, 0.7419, 0.0945, 0.5583, 0.3553, 0.7961, 0.8214, 0.2222, 0.7895, 0.1333, 0.9487, 1.0, 0.8921, 0.9348, 0.9383, 0.9296, 0.8384, 0.1598, 0.5556, 0.8209, 0.1982, 0.8, 0.4947, 0.0, 0.0, 0.0747, 0.5957, 1.0, 0.4026, 0.2444, 0.0094, 0.7692, 0.1739, 0.5739, 0.0859, 0.131, 0.6792, 0.6585, 0.3441, 0.6364, 0.487, 0.1154, 0.7273, 0.2, 0.8333, 0.95, 0.8889, 0.8613, 0.634], 'map_cut_1000': [0.1104, 0.1965, 0.2142, 0.2898, 0.0001, 0.185, 0.4196, 0.0444, 0.0, 0.2537, 0.3991, 0.0361, 0.2131, 0.2092, 0.266, 0.0921, 0.1035, 0.0151, 0.1848, 0.1312, 0.3279, 0.079, 0.0068, 0.4194, 0.0843, 0.3357, 0.024, 0.7215, 0.8006, 0.7802, 0.2911, 0.2166, 0.0603, 0.0657, 0.0889, 0.1582, 0.0254, 0.1246, 0.2151, 0.0244, 0.0583, 0.1607, 0.0398, 0.051, 0.3714, 0.2837, 0.289, 0.6126, 0.4833, 0.0479, 0.7247, 0.0773, 0.927, 0.3241, 0.332, 0.1651, 0.1985, 0.1209, 0.0629, 0.5348, 0.2659, 0.0505, 0.3084, 0.0524, 0.0436, 0.0456, 0.7439, 0.1767, 0.1704, 0.094, 0.0684, 0.2344, 0.044, 0.0436, 0.0014, 0.3195, 0.0177, 0.1554, 0.193, 0.0375, 0.2888, 0.0003, 0.6079, 0.7837, 0.7517, 0.3241, 0.4858, 0.7044, 0.5416, 0.0448, 0.0094, 0.3516, 0.0258, 0.2751, 0.0749, 0.0, 0.0, 0.002, 0.1656, 0.4151, 0.1352, 0.0044, 0.0006, 0.0976, 0.0086, 0.338, 0.002, 0.0033, 0.1567, 0.4499, 0.0652, 0.0677, 0.2933, 0.0026, 0.0678, 0.0002, 0.1568, 0.1241, 0.2742, 0.2988, 0.2129], 'ndcg_cut_10': [0.4768, 0.2974, 0.4081, 0.2083, 0.0, 0.4899, 0.7721, 0.224, 0.0, 0.6817, 0.4226, 0.0, 0.0, 0.0, 0.0, 0.2743, 0.5795, 0.0, 0.1389, 0.6691, 0.8701, 0.5384, 0.0, 0.6902, 0.0, 0.531, 0.0, 0.9266, 0.8522, 0.8359, 0.2935, 0.6473, 0.0, 0.1737, 0.2337, 0.3964, 0.4221, 0.8415, 0.6469, 0.1585, 0.6168, 0.3597, 0.4671, 0.4355, 0.678, 0.7168, 0.8201, 0.7656, 0.6548, 0.1389, 0.9266, 0.2489, 1.0, 0.5416, 0.611, 0.2935, 0.2489, 0.1374, 0.0979, 0.9364, 0.2999, 0.5329, 0.7543, 0.11, 0.2985, 0.0784, 1.0, 0.5232, 0.3824, 0.3629, 0.2521, 0.9216, 0.6727, 0.0694, 0.0, 1.0, 0.0734, 0.0, 0.4912, 0.2935, 0.641, 0.0, 0.8205, 1.0, 1.0, 0.641, 0.2083, 1.0, 0.9306, 0.5474, 0.0, 0.9364, 0.0734, 0.3392, 0.0636, 0.0, 0.0, 0.0, 0.6173, 0.688, 0.782, 0.0, 0.0, 0.0948, 0.0694, 0.6321, 0.0, 0.0663, 0.5474, 0.9266, 0.2835, 0.2201, 1.0, 0.0, 0.2201, 0.0, 0.3188, 0.2025, 0.5677, 0.385, 0.4111]}, 'scoreAD0.7': {'P_5': [0.6, 0.4, 0.4, 0.2, 0.0, 0.0, 1.0, 0.4, 0.0, 0.4, 0.4, 0.0, 0.2, 0.4, 0.0, 0.4, 0.8, 0.0, 0.2, 0.6, 1.0, 0.6, 0.0, 1.0, 0.0, 0.6, 0.0, 1.0, 0.4, 1.0, 0.2, 0.6, 0.0, 0.2, 0.2, 0.2, 0.8, 0.8, 0.6, 0.0, 0.6, 0.6, 0.6, 0.2, 0.6, 0.8, 0.8, 0.8, 0.6, 0.2, 1.0, 0.4, 1.0, 0.4, 0.6, 0.2, 0.4, 0.2, 0.2, 1.0, 0.2, 0.4, 0.6, 0.0, 0.2, 0.0, 1.0, 0.6, 0.2, 0.2, 0.4, 1.0, 0.6, 0.4, 0.0, 1.0, 0.0, 0.0, 0.8, 0.4, 0.6, 0.0, 0.6, 1.0, 1.0, 0.6, 0.2, 1.0, 1.0, 0.4, 0.0, 1.0, 0.0, 0.2, 0.0, 0.0, 0.0, 0.0, 0.4, 0.8, 0.6, 0.0, 0.0, 0.0, 0.0, 0.6, 0.0, 0.0, 0.6, 0.8, 0.2, 0.2, 0.6, 0.0, 0.2, 0.0, 0.2, 0.2, 0.4, 0.2, 0.4033], 'recall_1000': [0.5349, 1.0, 0.8421, 0.9804, 0.0909, 0.7872, 0.9, 0.4787, 0.0, 0.7054, 1.0, 0.8438, 0.7848, 1.0, 0.9655, 0.4242, 0.3891, 0.5, 0.85, 0.7241, 0.7053, 0.4023, 0.2424, 0.8929, 0.4611, 0.7281, 1.0, 0.9781, 1.0, 0.875, 1.0, 0.7593, 0.8611, 0.7234, 0.84, 0.9091, 0.1458, 0.3786, 0.475, 0.2119, 0.2273, 0.6333, 0.2754, 0.3473, 0.8649, 0.4444, 0.6939, 1.0, 0.6, 0.5385, 0.9925, 0.5, 0.9872, 0.7647, 0.8421, 0.8571, 0.875, 1.0, 0.875, 1.0, 0.9118, 0.2071, 0.8642, 0.7, 0.2683, 0.8, 1.0, 0.7727, 0.5143, 0.6977, 0.551, 0.8657, 0.2415, 0.7742, 0.0709, 0.55, 0.3158, 0.7368, 0.8214, 0.2222, 0.7763, 0.1333, 0.9487, 1.0, 0.8561, 0.9239, 0.9136, 0.9437, 0.8182, 0.1775, 0.4444, 0.8507, 0.185, 0.8, 0.4772, 0.0, 0.0, 0.0724, 0.5745, 1.0, 0.3799, 0.1556, 0.0094, 0.7692, 0.1739, 0.5739, 0.1094, 0.125, 0.6792, 0.6423, 0.3279, 0.6364, 0.4853, 0.1538, 0.7879, 0.4, 0.9167, 0.95, 0.8333, 0.9422, 0.6295], 'map_cut_1000': [0.145, 0.2353, 0.2059, 0.2827, 0.0003, 0.1208, 0.4437, 0.0437, 0.0, 0.2553, 0.3734, 0.0348, 0.2216, 0.2906, 0.2271, 0.0877, 0.1073, 0.016, 0.1753, 0.1347, 0.3075, 0.0862, 0.0098, 0.4058, 0.0631, 0.3109, 0.0289, 0.6776, 0.5955, 0.7792, 0.2144, 0.2312, 0.0571, 0.0669, 0.0678, 0.0865, 0.0212, 0.1288, 0.1704, 0.0138, 0.0527, 0.18, 0.0551, 0.0625, 0.3476, 0.2553, 0.3872, 0.5846, 0.4533, 0.0438, 0.7139, 0.0987, 0.9128, 0.2549, 0.3249, 0.1146, 0.2087, 0.1058, 0.055, 0.5501, 0.2682, 0.0374, 0.3336, 0.048, 0.0398, 0.0519, 0.7243, 0.1844, 0.1166, 0.085, 0.0824, 0.2574, 0.0662, 0.0998, 0.0008, 0.2909, 0.0128, 0.1231, 0.2317, 0.0472, 0.2722, 0.0003, 0.5828, 0.7231, 0.7163, 0.3478, 0.4545, 0.7428, 0.5434, 0.0448, 0.0119, 0.3455, 0.0233, 0.2749, 0.0633, 0.0, 0.0, 0.0018, 0.1289, 0.4641, 0.1147, 0.0013, 0.0007, 0.0751, 0.0056, 0.3307, 0.0018, 0.0023, 0.1609, 0.4445, 0.0527, 0.0731, 0.2637, 0.0025, 0.0519, 0.0013, 0.0849, 0.1516, 0.2458, 0.2539, 0.2054], 'ndcg_cut_10': [0.6307, 0.4506, 0.4331, 0.2122, 0.0, 0.137, 0.858, 0.1799, 0.0, 0.3223, 0.3964, 0.0, 0.2208, 0.3227, 0.0694, 0.2686, 0.5763, 0.0, 0.2895, 0.606, 0.9306, 0.5474, 0.0, 0.7223, 0.0, 0.6164, 0.0, 0.8604, 0.6563, 0.8359, 0.1795, 0.6621, 0.0, 0.1389, 0.0948, 0.1488, 0.4951, 0.8486, 0.5373, 0.0694, 0.6086, 0.3882, 0.4249, 0.2935, 0.6212, 0.7975, 0.8205, 0.7034, 0.6399, 0.1389, 0.8522, 0.359, 1.0, 0.4304, 0.6137, 0.2837, 0.3783, 0.1063, 0.1089, 0.9337, 0.3254, 0.4035, 0.678, 0.0, 0.2201, 0.1447, 1.0, 0.469, 0.3191, 0.2579, 0.3024, 0.9216, 0.6083, 0.3301, 0.0, 1.0, 0.0, 0.0694, 0.5101, 0.4035, 0.5774, 0.0, 0.7952, 1.0, 1.0, 0.6851, 0.4355, 1.0, 1.0, 0.478, 0.0, 1.0, 0.1428, 0.4413, 0.0, 0.0, 0.0, 0.0, 0.4409, 0.6281, 0.7467, 0.0, 0.0, 0.0663, 0.0, 0.6311, 0.0, 0.0, 0.5474, 0.9149, 0.233, 0.2201, 0.7663, 0.0, 0.11, 0.0, 0.1389, 0.2863, 0.5361, 0.0948, 0.3975]}, 'scoreBM25': {'P_5': [0.4, 0.4, 0.8, 0.4, 0.0, 0.4, 1.0, 0.0, 0.0, 0.4, 0.6, 0.0, 0.0, 0.2, 0.0, 0.6, 0.6, 0.0, 0.2, 0.6, 1.0, 0.8, 0.0, 1.0, 0.0, 0.8, 0.0, 1.0, 0.6, 0.8, 0.2, 0.6, 0.0, 0.2, 0.2, 0.2, 0.6, 0.8, 0.8, 0.2, 0.6, 0.6, 0.2, 0.6, 0.8, 0.8, 0.8, 1.0, 0.6, 0.4, 1.0, 0.4, 1.0, 0.4, 0.6, 0.2, 0.2, 0.0, 0.2, 1.0, 0.2, 0.4, 0.8, 0.2, 0.4, 0.2, 1.0, 0.6, 0.6, 0.2, 0.2, 0.8, 0.4, 0.4, 0.0, 1.0, 0.0, 0.0, 0.4, 0.4, 0.6, 0.0, 0.8, 1.0, 1.0, 0.6, 0.2, 1.0, 1.0, 0.2, 0.0, 1.0, 0.2, 0.4, 0.0, 0.0, 0.0, 0.0, 0.4, 0.8, 0.6, 0.0, 0.0, 0.0, 0.0, 0.6, 0.0, 0.0, 0.6, 0.8, 0.4, 0.2, 0.8, 0.0, 0.0, 0.0, 0.2, 0.2, 0.6, 0.0, 0.4183], 'recall_1000': [0.5814, 1.0, 0.8947, 0.9804, 0.0606, 0.8085, 0.9, 0.6064, 0.0, 0.7183, 1.0, 0.9375, 0.9114, 1.0, 0.9655, 0.4343, 0.3808, 0.5, 0.95, 0.8448, 0.8947, 0.3966, 0.2788, 0.875, 0.479, 0.7719, 1.0, 0.9708, 1.0, 0.875, 1.0, 0.7407, 0.8889, 0.7447, 0.88, 0.9545, 0.2976, 0.3981, 0.5719, 0.2203, 0.2091, 0.6333, 0.25, 0.3408, 0.8649, 0.4978, 0.7545, 1.0, 0.6, 0.5385, 0.985, 0.5, 0.9872, 0.8235, 0.7895, 0.746, 0.875, 1.0, 0.875, 1.0, 0.8824, 0.2286, 0.8148, 0.7, 0.3902, 0.8, 1.0, 0.7727, 0.6857, 0.6977, 0.6122, 0.8657, 0.3231, 0.8387, 0.0709, 0.55, 0.3816, 0.8026, 0.8214, 0.254, 0.8026, 0.1333, 0.9487, 1.0, 0.8633, 0.9457, 0.9218, 0.9437, 0.8384, 0.1913, 0.5556, 0.8507, 0.2026, 0.8, 0.5158, 0.0, 0.0, 0.0701, 0.5532, 1.0, 0.4026, 0.2444, 0.0094, 0.7692, 0.1884, 0.5739, 0.0703, 0.1071, 0.6981, 0.6423, 0.332, 0.6364, 0.4837, 0.1346, 0.7727, 0.4, 0.9167, 0.85, 0.8333, 0.9595, 0.647], 'map_cut_1000': [0.1276, 0.2585, 0.2699, 0.3569, 0.0002, 0.1842, 0.4848, 0.0538, 0.0, 0.2476, 0.4356, 0.0422, 0.2512, 0.2458, 0.3022, 0.1016, 0.115, 0.0167, 0.1844, 0.1591, 0.4206, 0.0962, 0.0121, 0.4484, 0.072, 0.3741, 0.0316, 0.698, 0.622, 0.7113, 0.2478, 0.2434, 0.0615, 0.0765, 0.0713, 0.1141, 0.0482, 0.1366, 0.23, 0.0321, 0.0498, 0.1479, 0.0369, 0.0644, 0.3626, 0.2607, 0.4334, 0.527, 0.4833, 0.091, 0.7147, 0.0961, 0.9049, 0.3174, 0.2783, 0.1222, 0.1741, 0.0864, 0.1769, 0.5518, 0.2686, 0.0433, 0.3155, 0.0783, 0.0544, 0.0672, 0.7795, 0.185, 0.1947, 0.0743, 0.111, 0.2298, 0.0964, 0.1183, 0.0008, 0.334, 0.0238, 0.1333, 0.2092, 0.0587, 0.3468, 0.0003, 0.593, 0.6778, 0.7383, 0.3613, 0.4548, 0.7369, 0.5427, 0.0367, 0.0066, 0.3569, 0.0245, 0.3355, 0.0759, 0.0, 0.0, 0.002, 0.133, 0.5179, 0.118, 0.0027, 0.0003, 0.0696, 0.0055, 0.3342, 0.0011, 0.0018, 0.1762, 0.4345, 0.0539, 0.0524, 0.2889, 0.0028, 0.0495, 0.0011, 0.0656, 0.1658, 0.2694, 0.2497, 0.2177], 'ndcg_cut_10': [0.5442, 0.5213, 0.4288, 0.3689, 0.0, 0.3859, 0.8701, 0.1478, 0.0, 0.3996, 0.4885, 0.0, 0.2141, 0.0851, 0.1331, 0.4833, 0.5353, 0.0, 0.1682, 0.5353, 0.9337, 0.6236, 0.0, 0.7184, 0.0694, 0.7137, 0.0, 0.863, 0.7026, 0.8113, 0.2201, 0.6461, 0.0, 0.2201, 0.0948, 0.2895, 0.4944, 0.9149, 0.5834, 0.1546, 0.5836, 0.3922, 0.2935, 0.29, 0.6817, 0.7799, 0.9052, 0.7273, 0.6548, 0.3689, 0.9306, 0.2337, 1.0, 0.4189, 0.5175, 0.2985, 0.2687, 0.0, 0.2529, 1.0, 0.2745, 0.4355, 0.684, 0.2201, 0.3149, 0.11, 1.0, 0.469, 0.4608, 0.247, 0.3571, 0.6906, 0.5114, 0.3301, 0.0, 1.0, 0.0, 0.0, 0.4729, 0.4946, 0.5774, 0.0, 0.753, 1.0, 1.0, 0.7663, 0.2457, 1.0, 1.0, 0.2298, 0.0, 0.9364, 0.2394, 0.4852, 0.0, 0.0, 0.0, 0.0, 0.5239, 0.6321, 0.7952, 0.0, 0.0, 0.0663, 0.0, 0.6253, 0.0, 0.0, 0.6628, 0.9052, 0.2686, 0.1389, 0.89, 0.0, 0.0734, 0.0, 0.161, 0.2935, 0.5479, 0.1518, 0.4084]}, 'scoreJM0.2': {'P_5': [0.2, 0.6, 0.6, 0.4, 0.0, 0.0, 1.0, 0.2, 0.0, 0.0, 0.4, 0.0, 0.4, 0.2, 0.2, 0.4, 0.8, 0.0, 0.2, 0.8, 1.0, 0.6, 0.0, 0.8, 0.0, 0.4, 0.0, 0.8, 0.4, 1.0, 0.2, 0.4, 0.0, 0.4, 0.2, 0.2, 0.6, 0.8, 0.4, 0.0, 0.6, 0.6, 0.0, 0.2, 0.6, 0.8, 0.6, 0.6, 0.2, 0.2, 1.0, 0.2, 1.0, 0.4, 1.0, 0.2, 0.2, 0.0, 0.2, 0.8, 0.2, 0.2, 0.8, 0.0, 0.0, 0.0, 1.0, 0.6, 0.0, 0.2, 0.2, 0.8, 0.4, 0.2, 0.0, 1.0, 0.0, 0.0, 0.4, 0.2, 0.6, 0.0, 0.8, 1.0, 1.0, 0.8, 0.4, 1.0, 0.8, 0.0, 0.0, 1.0, 0.0, 0.4, 0.0, 0.0, 0.0, 0.0, 0.4, 0.6, 0.4, 0.0, 0.0, 0.0, 0.0, 0.6, 0.0, 0.0, 0.6, 0.8, 0.2, 0.2, 0.4, 0.0, 0.0, 0.0, 0.2, 0.2, 0.6, 0.4, 0.3633], 'recall_1000': [0.4419, 0.963, 0.8947, 0.9804, 0.0, 0.766, 0.9, 0.4787, 0.0, 0.6176, 1.0, 0.7812, 0.8481, 1.0, 0.9655, 0.4242, 0.3849, 0.5208, 0.95, 0.6379, 0.8737, 0.3563, 0.1394, 0.875, 0.503, 0.7544, 1.0, 0.9927, 1.0, 0.875, 1.0, 0.7222, 0.8611, 0.766, 0.84, 0.9091, 0.1845, 0.3689, 0.5188, 0.2203, 0.2136, 0.6667, 0.2203, 0.2958, 0.8649, 0.4333, 0.6606, 1.0, 0.6, 0.5385, 0.9925, 0.5, 0.9872, 0.9412, 0.8421, 0.9365, 0.875, 1.0, 0.875, 1.0, 0.8529, 0.2143, 0.7901, 0.7, 0.3902, 0.8, 1.0, 0.7955, 0.6571, 0.6279, 0.551, 0.8657, 0.2086, 0.7097, 0.1024, 0.5583, 0.3421, 0.6908, 0.8214, 0.2381, 0.8026, 0.1333, 0.9487, 1.0, 0.8453, 0.913, 0.93, 0.9155, 0.8485, 0.1538, 0.4444, 0.8209, 0.1718, 0.8, 0.4702, 0.0, 0.0, 0.0747, 0.5957, 1.0, 0.3604, 0.2444, 0.0094, 0.7692, 0.1594, 0.5739, 0.0625, 0.0655, 0.6604, 0.6504, 0.3441, 0.6364, 0.4805, 0.1346, 0.7273, 0.2, 0.8333, 0.95, 0.8889, 0.9133, 0.6267], 'map_cut_1000': [0.0728, 0.2908, 0.2595, 0.3117, 0.0, 0.1136, 0.4014, 0.0349, 0.0, 0.1683, 0.3702, 0.0302, 0.2453, 0.2688, 0.252, 0.0861, 0.1087, 0.0164, 0.1726, 0.138, 0.3864, 0.066, 0.0028, 0.4348, 0.0632, 0.2945, 0.0292, 0.6627, 0.5877, 0.7475, 0.1845, 0.1822, 0.0547, 0.0842, 0.0589, 0.0723, 0.0206, 0.132, 0.1731, 0.0206, 0.0546, 0.2073, 0.0164, 0.0421, 0.3385, 0.2486, 0.261, 0.5247, 0.3417, 0.0422, 0.6847, 0.1156, 0.8812, 0.3042, 0.363, 0.1394, 0.1712, 0.0629, 0.0784, 0.5057, 0.2448, 0.0224, 0.2368, 0.0482, 0.0215, 0.035, 0.7464, 0.1776, 0.1274, 0.0683, 0.0678, 0.2193, 0.0425, 0.0763, 0.0014, 0.3232, 0.0156, 0.1044, 0.1603, 0.038, 0.2781, 0.0003, 0.5518, 0.7078, 0.68, 0.3382, 0.411, 0.6841, 0.5179, 0.0282, 0.0047, 0.248, 0.0197, 0.3165, 0.0599, 0.0, 0.0, 0.0021, 0.1471, 0.3983, 0.1011, 0.0041, 0.0004, 0.0568, 0.0047, 0.3256, 0.0009, 0.0009, 0.1542, 0.4439, 0.0497, 0.0283, 0.2642, 0.0022, 0.0323, 0.0003, 0.0471, 0.1446, 0.2631, 0.2258, 0.1942], 'ndcg_cut_10': [0.2867, 0.5631, 0.4221, 0.2974, 0.0, 0.0663, 0.8522, 0.1834, 0.0, 0.1428, 0.3964, 0.0, 0.4113, 0.3128, 0.0851, 0.4163, 0.5389, 0.0694, 0.1642, 0.6988, 1.0, 0.5424, 0.0, 0.702, 0.0, 0.6, 0.0, 0.9149, 0.6176, 0.8301, 0.1737, 0.3996, 0.0, 0.224, 0.0851, 0.0948, 0.3437, 0.8263, 0.4643, 0.1396, 0.5232, 0.5225, 0.0694, 0.2201, 0.6851, 0.7975, 0.6403, 0.6831, 0.567, 0.11, 0.8522, 0.1732, 0.9364, 0.4419, 0.6489, 0.2863, 0.2298, 0.0, 0.1265, 0.8166, 0.2457, 0.0948, 0.5389, 0.0663, 0.1518, 0.0694, 1.0, 0.469, 0.1478, 0.2817, 0.2809, 0.89, 0.4865, 0.2935, 0.0, 1.0, 0.0, 0.0663, 0.3052, 0.2985, 0.641, 0.0, 0.7191, 1.0, 1.0, 0.6025, 0.4351, 1.0, 0.9052, 0.0784, 0.0, 0.8643, 0.0694, 0.4704, 0.0, 0.0, 0.0, 0.0, 0.5801, 0.5521, 0.5185, 0.0, 0.0, 0.0, 0.0, 0.6036, 0.0, 0.0, 0.5474, 0.8268, 0.2208, 0.0851, 0.5997, 0.0, 0.0694, 0.0, 0.0851, 0.2837, 0.558, 0.2436, 0.362]}, 'scoreTfIdf': {'P_5': [0.6, 0.2, 0.4, 0.2, 0.0, 0.4, 1.0, 0.2, 0.0, 0.6, 0.6, 0.2, 0.2, 0.0, 0.4, 0.6, 0.4, 0.0, 0.2, 0.8, 0.6, 0.6, 0.0, 0.6, 0.0, 0.8, 0.0, 1.0, 0.8, 1.0, 0.2, 0.6, 0.0, 0.0, 0.2, 0.2, 0.4, 1.0, 0.8, 0.2, 0.4, 0.2, 0.2, 0.6, 0.6, 0.6, 1.0, 1.0, 0.6, 0.6, 1.0, 0.4, 1.0, 0.8, 0.6, 0.2, 0.4, 0.0, 0.0, 0.8, 0.4, 0.2, 0.8, 0.2, 0.0, 0.2, 1.0, 0.8, 0.8, 0.2, 0.6, 0.4, 0.6, 0.0, 0.0, 1.0, 0.4, 0.4, 0.6, 0.4, 0.6, 0.0, 1.0, 1.0, 1.0, 0.4, 0.2, 1.0, 1.0, 0.2, 0.0, 1.0, 0.4, 0.4, 0.6, 0.0, 0.0, 0.0, 0.4, 0.6, 1.0, 0.0, 0.0, 0.2, 0.0, 0.4, 0.0, 0.0, 0.6, 1.0, 0.4, 0.2, 1.0, 0.0, 0.2, 0.0, 0.0, 0.2, 0.4, 0.4, 0.4317], 'recall_1000': [0.6047, 1.0, 0.8421, 0.9608, 0.0303, 0.8085, 0.9333, 0.6809, 0.0, 0.677, 1.0, 0.875, 0.8734, 1.0, 1.0, 0.3939, 0.4017, 0.4583, 0.9, 0.8448, 0.8632, 0.4023, 0.3333, 0.8214, 0.3952, 0.7632, 1.0, 0.9343, 1.0, 1.0, 1.0, 0.6481, 0.8333, 0.617, 0.76, 0.9091, 0.369, 0.5146, 0.5594, 0.4492, 0.2, 0.6667, 0.3771, 0.3537, 0.8649, 0.6067, 0.7061, 1.0, 0.8, 0.5385, 0.9774, 0.4886, 0.9872, 0.7941, 0.7895, 0.9365, 0.9062, 1.0, 0.875, 0.9639, 0.8824, 0.1929, 0.8395, 0.6333, 0.3659, 0.7, 1.0, 0.7273, 0.7619, 0.6047, 0.585, 0.8657, 0.3322, 0.871, 0.1024, 0.4833, 0.3421, 0.7697, 0.8214, 0.2857, 0.7763, 0.1333, 0.9487, 1.0, 0.8309, 0.9348, 0.9218, 0.8979, 0.8182, 0.2742, 0.7778, 0.8657, 0.2599, 0.8, 0.5719, 0.0, 0.5, 0.0611, 0.5319, 1.0, 0.4351, 0.1111, 0.0094, 0.7692, 0.3188, 0.5739, 0.1719, 0.1845, 0.6792, 0.6667, 0.3765, 0.6364, 0.4935, 0.1154, 0.7424, 0.0, 0.75, 0.95, 0.8333, 0.948, 0.651], 'map_cut_1000': [0.1586, 0.1205, 0.1719, 0.3008, 0.0, 0.2325, 0.3843, 0.0887, 0.0, 0.2682, 0.4983, 0.0561, 0.1889, 0.2238, 0.3957, 0.0893, 0.0951, 0.0131, 0.2058, 0.3111, 0.3149, 0.0644, 0.0179, 0.2926, 0.0636, 0.3594, 0.0289, 0.6896, 0.8036, 0.7542, 0.2704, 0.2031, 0.0733, 0.04, 0.0877, 0.0919, 0.0895, 0.1296, 0.2336, 0.0547, 0.0219, 0.0567, 0.0707, 0.0954, 0.2685, 0.3364, 0.4911, 0.5405, 0.6019, 0.1355, 0.682, 0.038, 0.838, 0.4038, 0.1874, 0.1294, 0.1705, 0.0651, 0.0672, 0.4494, 0.2858, 0.0208, 0.3026, 0.0699, 0.023, 0.1332, 0.6783, 0.1847, 0.2638, 0.08, 0.1303, 0.2386, 0.1343, 0.1127, 0.0014, 0.2545, 0.0653, 0.206, 0.2363, 0.0437, 0.4331, 0.0003, 0.63, 0.5622, 0.627, 0.2233, 0.4919, 0.6619, 0.4264, 0.0628, 0.0175, 0.3608, 0.0368, 0.409, 0.1418, 0.0, 0.0027, 0.0017, 0.1122, 0.5217, 0.1531, 0.0008, 0.0012, 0.0933, 0.0125, 0.308, 0.0053, 0.006, 0.1725, 0.3294, 0.0776, 0.0822, 0.3185, 0.004, 0.0992, 0.0, 0.0556, 0.2073, 0.28, 0.3523, 0.2155], 'ndcg_cut_10': [0.5934, 0.1732, 0.3125, 0.2992, 0.0, 0.5654, 0.782, 0.1584, 0.0, 0.8201, 0.6086, 0.1834, 0.1514, 0.0663, 0.4189, 0.29, 0.3169, 0.0, 0.2051, 0.6911, 0.5518, 0.6137, 0.0, 0.6016, 0.0, 0.7656, 0.0, 0.8669, 0.785, 0.8301, 0.2895, 0.4883, 0.1396, 0.0694, 0.1488, 0.1514, 0.4519, 0.8669, 0.8486, 0.1884, 0.4035, 0.2051, 0.2173, 0.6505, 0.423, 0.7289, 1.0, 0.7223, 0.7227, 0.4441, 0.9216, 0.2489, 1.0, 0.7133, 0.4, 0.2985, 0.1952, 0.0, 0.0901, 0.89, 0.5329, 0.1514, 0.5619, 0.2201, 0.0784, 0.2201, 1.0, 0.4925, 0.6442, 0.0948, 0.7386, 0.4946, 0.5649, 0.0784, 0.0, 0.9306, 0.3301, 0.3347, 0.5424, 0.3052, 0.641, 0.0, 0.9337, 1.0, 1.0, 0.4401, 0.2208, 1.0, 0.9306, 0.3102, 0.0, 0.8522, 0.2646, 0.5531, 0.5174, 0.0, 0.0, 0.0, 0.307, 0.7168, 0.858, 0.0, 0.0694, 0.0948, 0.0, 0.5751, 0.0694, 0.0, 0.5353, 0.9364, 0.4139, 0.2201, 1.0, 0.0694, 0.2895, 0.0, 0.0, 0.3719, 0.5743, 0.3783, 0.4169]}}\n"
     ]
    }
   ],
   "source": [
    "# evaluation = {}\n",
    "# filenames = [\"scoreJM_val_0.1\",\"scoreJM_val_0.2\",\"scoreJM_val_0.3\",\"scoreJM_val_0.4\",\n",
    "#              \"scoreJM_val_0.5\",\"scoreJM_val_0.6\",\"scoreJM_val_0.7\",\"scoreJM_val_0.8\",\"scoreJM_val_0.9\",\n",
    "#              \"scoreD_val_500.0\",\"scoreD_val_1000.0\",\"scoreD_val_1500.0\",\"scoreD_val_2000.0\",\n",
    "#              \"scoreAD_val_0.1\",\"scoreAD_val_0.2\",\"scoreAD_val_0.3\",\"scoreAD_val_0.4\",\"scoreAD_val_0.5\",\n",
    "#              \"scoreAD_val_0.6\",\"scoreAD_val_0.7\",\"scoreAD_val_0.8\",\"scoreAD_val_0.9\"]\n",
    "# for filename in filenames:\n",
    "#     data = pickle.load(open(filename + \".pkl\",\"rb\"))\n",
    "#     trec_eval = TrecEvaluator(validation_data=\"ap_88_89/qrel_validation\",runfile_name=filename +\"_run\")\n",
    "#     evaluation[filename] = trec_eval.evaluate(data=data)\n",
    "    \n",
    "# print(evaluation)\n",
    "# pickle.dump(evaluation,open(\"model_validation2.pkl\", \"wb\"))\n",
    "\n",
    "#Determine best parameter value for the language models\n",
    "\n",
    "\n",
    "# wins_jm = {}\n",
    "# avg_jm = {}\n",
    "# avg_ad = {}\n",
    "# avg_d = {}\n",
    "# wins_ad = {}\n",
    "# wins_d = {}\n",
    "# for i in np.arange(0.1,1,0.1):\n",
    "#     wins_jm[str(i)] = 0\n",
    "#     wins_ad[str(i)] = 0\n",
    "#     avg_jm[str(i)] = 0.0\n",
    "#     avg_ad[str(i)] = 0.0\n",
    "#     for j in np.arange(0.1,1,0.1):\n",
    "#         for key, score in evaluation['scoreJM_val_'+str(i)].items():\n",
    "#             avg_jm[str(i)] += score/9.0\n",
    "#             if evaluation['scoreJM_val_'+str(j)][key] < score:\n",
    "#                 wins_jm[str(i)] += 1\n",
    "#         for key, score in evaluation['scoreAD_val_'+str(i)].items():\n",
    "#             avg_ad[str(i)] += score/9.0\n",
    "#             if evaluation['scoreAD_val_'+str(j)][key] < score:\n",
    "#                 wins_ad[str(i)] += 1\n",
    "                \n",
    "# for i in np.arange(500.0,2500.0,500.0):\n",
    "#     wins_d[str(i)] = 0\n",
    "#     avg_d[str(i)] = 0.0\n",
    "#     for j in np.arange(500.0,2500.0,500.0):\n",
    "#         for key, score in evaluation['scoreD_val_'+str(i)].items():\n",
    "#             avg_d[str(i)] += score/4.0\n",
    "#             if evaluation['scoreD_val_'+str(j)][key] < score:\n",
    "#                 wins_d[str(i)] += 1\n",
    "                \n",
    "# # We select the best parameter value based on the number of 'wins' it has. The score averages are for validation, they check out.\n",
    "# print(wins_jm)\n",
    "# print(avg_jm)\n",
    "# print(wins_ad)\n",
    "# print(avg_ad)\n",
    "# print(wins_d)\n",
    "# print(avg_d)\n",
    "\n",
    "# Filenames for testing, parameter values are determined based on above evaluation of parameter settings.\n",
    "testFiles = [\"scoreTfIdf\",\"scoreBM25\",\"scoreJM0.2\",\"scoreAD0.7\",\"scoreD1500.0\"]\n",
    "\n",
    "# Create the runfile for the test-scores and compute and store the results per query per method on the 4 measures.\n",
    "testResults = {}\n",
    "for filename in testFiles:\n",
    "    data = pickle.load(open(filename + \".pkl\",\"rb\"))\n",
    "    trec_eval = TrecEvaluator(validation_data=\"ap_88_89/qrel_test\",runfile_name=filename +\"_run_test_full\")\n",
    "    testResults[filename] = trec_eval.evaluate(data=data,full=True)\n",
    "    \n",
    "print(testResults)\n",
    "pickle.dump(testResults,open(\"model_test3.pkl\", \"wb\"))\n",
    "        \n",
    "    \n",
    "        "
   ]
  },
  {
   "cell_type": "code",
   "execution_count": 22,
   "metadata": {
    "collapsed": false
   },
   "outputs": [
    {
     "name": "stdout",
     "output_type": "stream",
     "text": [
      "121\n"
     ]
    }
   ],
   "source": [
    "print(len(testResults[\"scoreBM25\"][\"P_5\"]))"
   ]
  },
  {
   "cell_type": "markdown",
   "metadata": {},
   "source": [
    "In this cell multiple t-tests are run to compare all the models. Sidak correction is applied to the p-values."
   ]
  },
  {
   "cell_type": "code",
   "execution_count": 46,
   "metadata": {
    "collapsed": false
   },
   "outputs": [
    {
     "name": "stdout",
     "output_type": "stream",
     "text": [
      "scoreD1500.0 and scoreAD0.7 do not differ significantly for test P_5\n",
      "scoreD1500.0 and scoreBM25 do not differ significantly for test P_5\n",
      "scoreD1500.0 and scoreTfIdf do not differ significantly for test P_5\n",
      "scoreD1500.0 and scoreJM0.2 do not differ significantly for test P_5\n",
      "scoreD1500.0 and scoreAD0.7 do not differ significantly for test recall_1000\n",
      "scoreD1500.0 and scoreBM25 do not differ significantly for test recall_1000\n",
      "scoreD1500.0 and scoreTfIdf do not differ significantly for test recall_1000\n",
      "scoreD1500.0 and scoreJM0.2 do not differ significantly for test recall_1000\n",
      "scoreD1500.0 and scoreAD0.7 do not differ significantly for test ndcg_cut_10\n",
      "scoreD1500.0 and scoreBM25 do not differ significantly for test ndcg_cut_10\n",
      "scoreD1500.0 and scoreTfIdf do not differ significantly for test ndcg_cut_10\n",
      "scoreD1500.0 and scoreJM0.2 differ significantly for test ndcg_cut_10, with p=0.0002411751091 and T=3.785261018\n",
      "scoreD1500.0 and scoreAD0.7 do not differ significantly for test map_cut_1000\n",
      "scoreD1500.0 and scoreBM25 do not differ significantly for test map_cut_1000\n",
      "scoreD1500.0 and scoreTfIdf do not differ significantly for test map_cut_1000\n",
      "scoreD1500.0 and scoreJM0.2 differ significantly for test map_cut_1000, with p=9.03693850154e-07 and T=5.1807225316\n",
      "scoreBM25 and scoreTfIdf do not differ significantly for test P_5\n",
      "scoreBM25 and scoreJM0.2 differ significantly for test P_5, with p=0.000436880369249 and T=3.61718171711\n",
      "scoreBM25 and scoreTfIdf do not differ significantly for test recall_1000\n",
      "scoreBM25 and scoreJM0.2 differ significantly for test recall_1000, with p=5.31365620728e-05 and T=4.19210487423\n",
      "scoreBM25 and scoreTfIdf do not differ significantly for test ndcg_cut_10\n",
      "scoreBM25 and scoreJM0.2 differ significantly for test ndcg_cut_10, with p=5.19074479584e-06 and T=4.77202146784\n",
      "scoreBM25 and scoreTfIdf do not differ significantly for test map_cut_1000\n",
      "scoreBM25 and scoreJM0.2 differ significantly for test map_cut_1000, with p=2.04188531129e-11 and T=7.40012098592\n",
      "scoreAD0.7 and scoreBM25 do not differ significantly for test P_5\n",
      "scoreAD0.7 and scoreTfIdf do not differ significantly for test P_5\n",
      "scoreAD0.7 and scoreJM0.2 do not differ significantly for test P_5\n",
      "scoreAD0.7 and scoreBM25 differ significantly for test recall_1000, with p=5.04810988803e-05 and T=-4.2054300804\n",
      "scoreAD0.7 and scoreTfIdf do not differ significantly for test recall_1000\n",
      "scoreAD0.7 and scoreJM0.2 do not differ significantly for test recall_1000\n",
      "scoreAD0.7 and scoreBM25 do not differ significantly for test ndcg_cut_10\n",
      "scoreAD0.7 and scoreTfIdf do not differ significantly for test ndcg_cut_10\n",
      "scoreAD0.7 and scoreJM0.2 differ significantly for test ndcg_cut_10, with p=0.000103459508114 and T=4.01629341386\n",
      "scoreAD0.7 and scoreBM25 differ significantly for test map_cut_1000, with p=1.7989503519e-05 and T=-4.46806886188\n",
      "scoreAD0.7 and scoreTfIdf do not differ significantly for test map_cut_1000\n",
      "scoreAD0.7 and scoreJM0.2 differ significantly for test map_cut_1000, with p=0.000160365131995 and T=3.89780784109\n",
      "scoreJM0.2 and scoreTfIdf do not differ significantly for test P_5\n",
      "scoreJM0.2 and scoreTfIdf do not differ significantly for test recall_1000\n",
      "scoreJM0.2 and scoreTfIdf do not differ significantly for test ndcg_cut_10\n",
      "scoreJM0.2 and scoreTfIdf do not differ significantly for test map_cut_1000\n",
      "0.0012815105228752843\n",
      "{'scoreTfIdf': {'P_5': {}, 'recall_1000': {}, 'ndcg_cut_10': {}, 'map_cut_1000': {}}, 'scoreD1500.0': {'P_5': {'scoreAD0.7': [1.1285948412491627, 0.26132003763434014, False], 'scoreBM25': [0.10094260824071927, 0.91976448178864745, False], 'scoreTfIdf': [-0.61510976923511373, 0.53964695597967305, False], 'scoreJM0.2': [2.9901970576756778, 0.0033834830172440444, False]}, 'recall_1000': {'scoreAD0.7': [1.0500646465947696, 0.29579852580297622, False], 'scoreBM25': [-2.8660880184906499, 0.0049090126104665184, False], 'scoreTfIdf': [-2.1560211368150299, 0.033077738165573418, False], 'scoreJM0.2': [3.0035719293003083, 0.0032482939692685623, False]}, 'ndcg_cut_10': {'scoreAD0.7': [1.4839759872012601, 0.14043720606147145, False], 'scoreBM25': [0.29900164078839864, 0.76545599291956534, False], 'scoreTfIdf': [-0.4013987435958995, 0.68884048626161176, False], 'scoreJM0.2': [3.7852610179984478, 0.0002411751090995008, True]}, 'map_cut_1000': {'scoreAD0.7': [2.5201537144567774, 0.013043615925385273, False], 'scoreBM25': [-1.3363618877456049, 0.18395947357341602, False], 'scoreTfIdf': [-0.4552359768197331, 0.64976207291323196, False], 'scoreJM0.2': [5.1807225315963414, 9.0369385015354458e-07, True]}}, 'scoreBM25': {'P_5': {'scoreTfIdf': [-0.78226227113116675, 0.43560133117832045, False], 'scoreJM0.2': [3.6171817171135032, 0.0004368803692491245, True]}, 'recall_1000': {'scoreTfIdf': [-0.51757599500070373, 0.60570695019012755, False], 'scoreJM0.2': [4.1921048742319176, 5.3136562072778607e-05, True]}, 'ndcg_cut_10': {'scoreTfIdf': [-0.60655372617209236, 0.54529291882615571, False], 'scoreJM0.2': [4.7720214678381456, 5.1907447958433196e-06, True]}, 'map_cut_1000': {'scoreTfIdf': [0.41075205953832405, 0.68198688261276597, False], 'scoreJM0.2': [7.4001209859220145, 2.0418853112872788e-11, True]}}, 'scoreAD0.7': {'P_5': {'scoreBM25': [-1.1447573166743346, 0.25458783061691814, False], 'scoreTfIdf': [-1.4295928119105099, 0.15543221036340724, False], 'scoreJM0.2': [2.8970784566205707, 0.0044780808615557588, False]}, 'recall_1000': {'scoreBM25': [-4.2054300803982523, 5.0481098880315773e-05, True], 'scoreTfIdf': [-2.4881645453617733, 0.014212480494829668, False], 'scoreJM0.2': [0.62994842141046581, 0.5299259996217689, False]}, 'ndcg_cut_10': {'scoreBM25': [-1.4711514401627235, 0.14386766290525368, False], 'scoreTfIdf': [-1.2377307188273015, 0.2182322048360428, False], 'scoreJM0.2': [4.0162934138588753, 0.00010345950811384414, True]}, 'map_cut_1000': {'scoreBM25': [-4.4680688618809672, 1.7989503518963432e-05, True], 'scoreTfIdf': [-1.6715815642293586, 0.097212630937565936, False], 'scoreJM0.2': [3.897807841094854, 0.00016036513199541318, True]}}, 'scoreJM0.2': {'P_5': {'scoreTfIdf': [-3.1670635340328395, 0.001952889046850945, False]}, 'recall_1000': {'scoreTfIdf': [-2.87791785305998, 0.0047402204130992187, False]}, 'ndcg_cut_10': {'scoreTfIdf': [-3.1365009265902852, 0.0021508811138541278, False]}, 'map_cut_1000': {'scoreTfIdf': [-3.1430939425540889, 0.002106656136467204, False]}}}\n"
     ]
    }
   ],
   "source": [
    "# testRel = {}\n",
    "# for model,values in testResults.items():\n",
    "#     testRel[model] = []\n",
    "#     for key, score in values.items():\n",
    "#         testRel[model].append(score)\n",
    "        \n",
    "# Tests\n",
    "comparison = {}\n",
    "models = []\n",
    "noComp = 0\n",
    "for model, scores in testResults.items():\n",
    "    comparison[model] = {}\n",
    "    models.append(model)\n",
    "    for test, score in scores.items():\n",
    "        comparison[model][test] = {}\n",
    "        for model2, scores2 in testResults.items():\n",
    "            if model2 not in models:\n",
    "                    comparison[model][test][model2] = [0,0,0]\n",
    "                    comparison[model][test][model2][0], comparison[model][test][model2][1] = scipy.stats.ttest_rel(score,scores2[test])\n",
    "                    noComp += 1\n",
    "\n",
    "# Multiple comparison correction using SIDAK, base p value for H0 rejection is 0.05\n",
    "SidakAlpha = 1.0 - (1.0 - 0.05)**(1.0/(noComp))\n",
    "for model, comp in comparison.items():\n",
    "    for test, scores in comp.items():\n",
    "        for model2, score in scores.items():\n",
    "            comparison[model][test][model2][2] = score[1] < SidakAlpha\n",
    "            if score[1] < SidakAlpha:\n",
    "                print(str(model) + \" and \" + str(model2) + \" differ significantly for test \" + str(test) +\", with p=\" + str(score[1]) + \" and T=\" + str(score[0]))    \n",
    "            else:\n",
    "                print(str(model) + \" and \" + str(model2) + \" do not differ significantly for test \" + str(test))\n",
    "    \n",
    "print(SidakAlpha)\n",
    "        \n",
    "\n",
    "        \n",
    "\n",
    "\n",
    "    \n",
    "        \n",
    "        \n",
    "\n",
    "        \n",
    "\n",
    "        \n"
   ]
  },
  {
   "cell_type": "markdown",
   "metadata": {},
   "source": [
    "### Task 2: Latent Semantic Models (LSMs) [25 points + 10 bonus points] ###\n",
    "\n",
    "In this task you will experiment with applying a distributional semantics methods ([word2vec](http://arxiv.org/abs/1411.2738)  **[5 points]**, [LSI](http://lsa3.colorado.edu/papers/JASIS.lsi.90.pdf) **[5 points]**, [LDA](https://www.cs.princeton.edu/~blei/papers/BleiNgJordan2003.pdf) **[5 points]** and [doc2vec](https://cs.stanford.edu/~quocle/paragraph_vector.pdf) **[5 points]**) for retrieval.\n",
    "\n",
    "You do not need to implement word2vec, LSI, LDA and doc2vec on your own. Instead, you can use [gensim](http://radimrehurek.com/gensim/index.html) (pre-loaded on the VirtualBox). An example on how to integrate Pyndri with Gensim for word2vec can be found [here](https://github.com/cvangysel/pyndri/blob/master/examples/word2vec.py). For the remaining latent vector space models, you will need to implement connector classes (such as `IndriSentences`) by yourself.\n",
    "\n",
    "In order to use a latent semantic model for retrieval, you need to:\n",
    "   * build a representation of the query **q**,\n",
    "   * build a representation of the document **d**,\n",
    "   * calculate the similarity between **q** and **d** (e.g., cosine similarity, KL-divergence).\n",
    "     \n",
    "The exact implementation here depends on the latent semantic model you are using. For example, in the case of word2vec, you only have vectors for individual words and not for documents or phrases. Try one of the following methods for producing these representations:\n",
    "   * Average or sum the word vectors.\n",
    "   * Cluster words in the document using [k-means](http://scikit-learn.org/stable/modules/generated/sklearn.cluster.KMeans.html) and use the centroid of the most important cluster. Experiment with different values of K for k-means.\n",
    "   * Using the [bag-of-word-embeddings representation](https://ciir-publications.cs.umass.edu/pub/web/getpdf.php?id=1248). **[10 bonus points]**\n",
    "   \n",
    "Each of these LSMs come with various hyperparameters to tune. Make a choice on the parameters, and explicitly mention the reasons that led you to these decisions. You can use the validation set to optimize hyper parameters you see fit; motivate your decisions. In addition, mention clearly how the query/document representations were constructed for each LSM and explain your choices.\n",
    "\n",
    "In this experiment, you will first obtain an initial top-1000 ranking for each query using TF-IDF in **Task 1**, and then re-rank the documents using the LSMs. Use TREC Eval to obtain the results and report on `NDCG@10`, Mean Average Precision (`MAP@1000`), `Precision@5` and `Recall@1000`.\n",
    "\n",
    "Perform significance testing **[5 points]** (similar as in Task 1) in the class of semantic matching methods."
   ]
  },
  {
   "cell_type": "markdown",
   "metadata": {},
   "source": [
    "### Task 3: Learning to rank (LTR) [10 points] ###\n",
    "\n",
    "In this task you will get an introduction into learning to rank for information retrieval. You will experiment with a pointwise learning to rank method, logistic regression, implemented in [scikit-learn](http://scikit-learn.org/stable/modules/generated/sklearn.linear_model.LogisticRegression.html).\n",
    "\n",
    "**NOTE**: you can only perform this task if you have completely finished Task 1 and Task 2.\n",
    "\n",
    "In this experiment, you will use the retrieval methods you implemented in Task 1 and Task 2 as features for the learning to rank model. Train your LTR model using 10-fold cross validation on the test set. For every query, first create a document candidate set using the top-1000 documents using TF-IDF. Secondly, compute query-document values using the retrieval models above and use them as features. Note that the feature values of different retrieval methods are likely to be distributed differently.\n",
    "\n",
    "Your approach will definitely not be as good as the state-of-the-art since you are taking a pointwise approach, but we do not ask you to try pair- or listwise methods because they will be the main topic of the next assignment."
   ]
  },
  {
   "cell_type": "code",
   "execution_count": 1,
   "metadata": {
    "collapsed": false
   },
   "outputs": [],
   "source": [
    "from sklearn.linear_model import LogisticRegression"
   ]
  },
  {
   "cell_type": "markdown",
   "metadata": {
    "collapsed": true
   },
   "source": [
    "### Task 4: Write a report [20 points; instant FAIL if not provided] ###\n",
    "\n",
    "The report should be a PDF file created using the [sigconf ACM template](https://www.acm.org/publications/proceedings-template) and will determine a significant part of your grade.\n",
    "\n",
    "   * It should explain what you have implemented, motivate your experiments and detail what you expect to learn from them. **[10 points]**\n",
    "   * Lastly, provide a convincing analysis of your results and conclude the report accordingly. **[10 points]**\n",
    "      * Do all methods perform similarly on all queries? Why?\n",
    "      * Is there a single retrieval model that outperforms all other retrieval models (i.e., silver bullet)?\n",
    "      * ...\n",
    "\n",
    "**Hand in the report and your self-contained implementation source files.** Do not send us the VirtualBox, but only the files that matter, organized in a well-documented zip/tgz file with clear instructions on how to reproduce your results. That is, we want to be able to regenerate all your results with minimal effort. You can assume that the index and ground-truth information is present in the same file system structure as on the VirtualBox.\n"
   ]
  }
 ],
 "metadata": {
  "anaconda-cloud": {},
  "kernelspec": {
   "display_name": "Python 3",
   "language": "python",
   "name": "python3"
  },
  "language_info": {
   "codemirror_mode": {
    "name": "ipython",
    "version": 3
   },
   "file_extension": ".py",
   "mimetype": "text/x-python",
   "name": "python",
   "nbconvert_exporter": "python",
   "pygments_lexer": "ipython3",
   "version": "3.5.2"
  }
 },
 "nbformat": 4,
 "nbformat_minor": 0
}
